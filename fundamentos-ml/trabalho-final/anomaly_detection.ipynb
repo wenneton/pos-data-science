{
 "cells": [
  {
   "cell_type": "markdown",
   "metadata": {},
   "source": [
    "# Anomaly Detection using Isolation Forests"
   ]
  },
  {
   "cell_type": "code",
   "execution_count": 1,
   "metadata": {},
   "outputs": [],
   "source": [
    "import pandas as pd\n",
    "from sklearn.preprocessing import LabelEncoder, MinMaxScaler\n",
    "from sklearn.ensemble import IsolationForest\n",
    "from sklearn.metrics import accuracy_score\n",
    "from sklearn.metrics import classification_report"
   ]
  },
  {
   "cell_type": "code",
   "execution_count": 2,
   "metadata": {},
   "outputs": [],
   "source": [
    "df = pd.read_csv('creditcard.csv')"
   ]
  },
  {
   "cell_type": "code",
   "execution_count": 3,
   "metadata": {},
   "outputs": [],
   "source": [
    "# df['Amount'] = MinMaxScaler().fit_transform(df['Amount'].values.reshape(-1,1))"
   ]
  },
  {
   "cell_type": "code",
   "execution_count": 4,
   "metadata": {},
   "outputs": [
    {
     "output_type": "execute_result",
     "data": {
      "text/plain": [
       "   Time        V1        V2        V3        V4        V5        V6        V7  \\\n",
       "0   0.0 -1.359807 -0.072781  2.536347  1.378155 -0.338321  0.462388  0.239599   \n",
       "1   0.0  1.191857  0.266151  0.166480  0.448154  0.060018 -0.082361 -0.078803   \n",
       "2   1.0 -1.358354 -1.340163  1.773209  0.379780 -0.503198  1.800499  0.791461   \n",
       "3   1.0 -0.966272 -0.185226  1.792993 -0.863291 -0.010309  1.247203  0.237609   \n",
       "4   2.0 -1.158233  0.877737  1.548718  0.403034 -0.407193  0.095921  0.592941   \n",
       "\n",
       "         V8        V9  ...       V21       V22       V23       V24       V25  \\\n",
       "0  0.098698  0.363787  ... -0.018307  0.277838 -0.110474  0.066928  0.128539   \n",
       "1  0.085102 -0.255425  ... -0.225775 -0.638672  0.101288 -0.339846  0.167170   \n",
       "2  0.247676 -1.514654  ...  0.247998  0.771679  0.909412 -0.689281 -0.327642   \n",
       "3  0.377436 -1.387024  ... -0.108300  0.005274 -0.190321 -1.175575  0.647376   \n",
       "4 -0.270533  0.817739  ... -0.009431  0.798278 -0.137458  0.141267 -0.206010   \n",
       "\n",
       "        V26       V27       V28  Amount  Class  \n",
       "0 -0.189115  0.133558 -0.021053  149.62      0  \n",
       "1  0.125895 -0.008983  0.014724    2.69      0  \n",
       "2 -0.139097 -0.055353 -0.059752  378.66      0  \n",
       "3 -0.221929  0.062723  0.061458  123.50      0  \n",
       "4  0.502292  0.219422  0.215153   69.99      0  \n",
       "\n",
       "[5 rows x 31 columns]"
      ],
      "text/html": "<div>\n<style scoped>\n    .dataframe tbody tr th:only-of-type {\n        vertical-align: middle;\n    }\n\n    .dataframe tbody tr th {\n        vertical-align: top;\n    }\n\n    .dataframe thead th {\n        text-align: right;\n    }\n</style>\n<table border=\"1\" class=\"dataframe\">\n  <thead>\n    <tr style=\"text-align: right;\">\n      <th></th>\n      <th>Time</th>\n      <th>V1</th>\n      <th>V2</th>\n      <th>V3</th>\n      <th>V4</th>\n      <th>V5</th>\n      <th>V6</th>\n      <th>V7</th>\n      <th>V8</th>\n      <th>V9</th>\n      <th>...</th>\n      <th>V21</th>\n      <th>V22</th>\n      <th>V23</th>\n      <th>V24</th>\n      <th>V25</th>\n      <th>V26</th>\n      <th>V27</th>\n      <th>V28</th>\n      <th>Amount</th>\n      <th>Class</th>\n    </tr>\n  </thead>\n  <tbody>\n    <tr>\n      <th>0</th>\n      <td>0.0</td>\n      <td>-1.359807</td>\n      <td>-0.072781</td>\n      <td>2.536347</td>\n      <td>1.378155</td>\n      <td>-0.338321</td>\n      <td>0.462388</td>\n      <td>0.239599</td>\n      <td>0.098698</td>\n      <td>0.363787</td>\n      <td>...</td>\n      <td>-0.018307</td>\n      <td>0.277838</td>\n      <td>-0.110474</td>\n      <td>0.066928</td>\n      <td>0.128539</td>\n      <td>-0.189115</td>\n      <td>0.133558</td>\n      <td>-0.021053</td>\n      <td>149.62</td>\n      <td>0</td>\n    </tr>\n    <tr>\n      <th>1</th>\n      <td>0.0</td>\n      <td>1.191857</td>\n      <td>0.266151</td>\n      <td>0.166480</td>\n      <td>0.448154</td>\n      <td>0.060018</td>\n      <td>-0.082361</td>\n      <td>-0.078803</td>\n      <td>0.085102</td>\n      <td>-0.255425</td>\n      <td>...</td>\n      <td>-0.225775</td>\n      <td>-0.638672</td>\n      <td>0.101288</td>\n      <td>-0.339846</td>\n      <td>0.167170</td>\n      <td>0.125895</td>\n      <td>-0.008983</td>\n      <td>0.014724</td>\n      <td>2.69</td>\n      <td>0</td>\n    </tr>\n    <tr>\n      <th>2</th>\n      <td>1.0</td>\n      <td>-1.358354</td>\n      <td>-1.340163</td>\n      <td>1.773209</td>\n      <td>0.379780</td>\n      <td>-0.503198</td>\n      <td>1.800499</td>\n      <td>0.791461</td>\n      <td>0.247676</td>\n      <td>-1.514654</td>\n      <td>...</td>\n      <td>0.247998</td>\n      <td>0.771679</td>\n      <td>0.909412</td>\n      <td>-0.689281</td>\n      <td>-0.327642</td>\n      <td>-0.139097</td>\n      <td>-0.055353</td>\n      <td>-0.059752</td>\n      <td>378.66</td>\n      <td>0</td>\n    </tr>\n    <tr>\n      <th>3</th>\n      <td>1.0</td>\n      <td>-0.966272</td>\n      <td>-0.185226</td>\n      <td>1.792993</td>\n      <td>-0.863291</td>\n      <td>-0.010309</td>\n      <td>1.247203</td>\n      <td>0.237609</td>\n      <td>0.377436</td>\n      <td>-1.387024</td>\n      <td>...</td>\n      <td>-0.108300</td>\n      <td>0.005274</td>\n      <td>-0.190321</td>\n      <td>-1.175575</td>\n      <td>0.647376</td>\n      <td>-0.221929</td>\n      <td>0.062723</td>\n      <td>0.061458</td>\n      <td>123.50</td>\n      <td>0</td>\n    </tr>\n    <tr>\n      <th>4</th>\n      <td>2.0</td>\n      <td>-1.158233</td>\n      <td>0.877737</td>\n      <td>1.548718</td>\n      <td>0.403034</td>\n      <td>-0.407193</td>\n      <td>0.095921</td>\n      <td>0.592941</td>\n      <td>-0.270533</td>\n      <td>0.817739</td>\n      <td>...</td>\n      <td>-0.009431</td>\n      <td>0.798278</td>\n      <td>-0.137458</td>\n      <td>0.141267</td>\n      <td>-0.206010</td>\n      <td>0.502292</td>\n      <td>0.219422</td>\n      <td>0.215153</td>\n      <td>69.99</td>\n      <td>0</td>\n    </tr>\n  </tbody>\n</table>\n<p>5 rows × 31 columns</p>\n</div>"
     },
     "metadata": {},
     "execution_count": 4
    }
   ],
   "source": [
    "df.head()"
   ]
  },
  {
   "cell_type": "markdown",
   "metadata": {},
   "source": [
    "Calculate the percentage of fraudulent transactions on labeled dataset to choose as contamination rate for Isolation Forest:"
   ]
  },
  {
   "cell_type": "code",
   "execution_count": 5,
   "metadata": {},
   "outputs": [
    {
     "output_type": "execute_result",
     "data": {
      "text/plain": [
       "0    284315\n",
       "1       492\n",
       "Name: Class, dtype: int64"
      ]
     },
     "metadata": {},
     "execution_count": 5
    }
   ],
   "source": [
    "df['Class'].value_counts()"
   ]
  },
  {
   "cell_type": "code",
   "execution_count": 6,
   "metadata": {
    "scrolled": true
   },
   "outputs": [
    {
     "output_type": "execute_result",
     "data": {
      "text/plain": [
       "0.0017"
      ]
     },
     "metadata": {},
     "execution_count": 6
    }
   ],
   "source": [
    "contamination = round(492/284315, 4)\n",
    "contamination"
   ]
  },
  {
   "source": [
    "Split train and test datasets regarding the time (70/30)"
   ],
   "cell_type": "markdown",
   "metadata": {}
  },
  {
   "cell_type": "code",
   "execution_count": 7,
   "metadata": {},
   "outputs": [],
   "source": [
    "df_train = df.drop(columns=['Class', 'Time'])\n",
    "df_test = df.drop(columns=['Time'])\n",
    "# df_train = df.iloc[0:round(len(df)*0.7)].copy()\n",
    "# df_test = df.iloc[round(len(df)*0.7):].copy()"
   ]
  },
  {
   "cell_type": "code",
   "execution_count": 8,
   "metadata": {},
   "outputs": [],
   "source": [
    "# df_train = df_train.drop(columns=['Class', 'Time', 'Amount'])\n",
    "# df_test = df_test.drop(columns=['Time', 'Amount'])"
   ]
  },
  {
   "cell_type": "markdown",
   "metadata": {},
   "source": [
    "Train unsupervised model with unlabeled dataset."
   ]
  },
  {
   "cell_type": "code",
   "execution_count": 9,
   "metadata": {},
   "outputs": [],
   "source": [
    "model = IsolationForest(n_estimators=100, max_samples='auto', contamination=contamination, max_features=1.0)"
   ]
  },
  {
   "cell_type": "code",
   "execution_count": 10,
   "metadata": {},
   "outputs": [
    {
     "output_type": "execute_result",
     "data": {
      "text/plain": [
       "IsolationForest(contamination=0.0017)"
      ]
     },
     "metadata": {},
     "execution_count": 10
    }
   ],
   "source": [
    "model.fit(df_train)"
   ]
  },
  {
   "cell_type": "code",
   "execution_count": 11,
   "metadata": {},
   "outputs": [],
   "source": [
    "scores = model.decision_function(df_train)\n",
    "anomaly = model.predict(df_train)"
   ]
  },
  {
   "cell_type": "code",
   "execution_count": 12,
   "metadata": {},
   "outputs": [],
   "source": [
    "df_train['scores'] = scores\n",
    "df_train['anomaly'] = anomaly"
   ]
  },
  {
   "cell_type": "code",
   "execution_count": 13,
   "metadata": {},
   "outputs": [
    {
     "output_type": "execute_result",
     "data": {
      "text/plain": [
       "              V1        V2        V3        V4        V5        V6        V7  \\\n",
       "270182  2.074446 -0.051311 -1.125447  0.381088 -0.071318 -1.129921  0.180242   \n",
       "167012  1.961458  0.298406 -2.109769  0.833410  0.439954 -1.096451  0.169290   \n",
       "10835   1.078624 -0.301565  1.429603  1.130334 -1.194051 -0.014737 -0.903896   \n",
       "79730  -0.926324  0.431985  1.051679 -1.433141 -1.405051  1.004504 -2.554209   \n",
       "20021   1.521927 -1.117359  0.105876 -1.519436 -0.946673  0.262277 -1.061673   \n",
       "80697   1.246103  0.374990  0.308599  0.691633 -0.326985 -1.055426  0.130505   \n",
       "219051  1.976323 -0.130516 -1.478505  0.395703 -0.042205 -1.502000  0.456258   \n",
       "133103  1.105083  0.095438  0.503572  1.492774 -0.399885 -0.379883  0.042413   \n",
       "69003  -0.774510  0.351818  2.592611 -1.977984 -0.770797 -0.769754  0.067784   \n",
       "53976   1.165798 -0.317388  1.295899  0.182243 -1.162435 -0.180699 -0.744596   \n",
       "\n",
       "              V8        V9       V10  ...       V22       V23       V24  \\\n",
       "270182 -0.325239  0.552013  0.073988  ... -0.725924  0.322798 -0.110465   \n",
       "167012 -0.196620  0.378535 -0.914761  ...  0.475696 -0.049442 -0.106097   \n",
       "10835   0.224024  2.503583 -0.603231  ... -0.263649  0.120773  0.331576   \n",
       "79730  -5.085090 -1.418752 -1.050937  ...  0.116544 -0.161920 -0.028926   \n",
       "20021   0.009803 -1.757256  1.441678  ... -0.657415 -0.105422 -0.827495   \n",
       "80697  -0.235387 -0.048864 -0.301027  ... -0.790059  0.117263  0.354762   \n",
       "219051 -0.400838  0.575771  0.001721  ... -0.406974  0.194390 -0.003309   \n",
       "133103  0.007338  0.394743 -0.108986  ... -0.075736 -0.028014  0.398740   \n",
       "69003   0.093489  1.113209 -1.794762  ...  0.970546 -0.411986  0.413941   \n",
       "53976   0.138758  1.007516 -0.441157  ...  0.064854  0.132054  0.486502   \n",
       "\n",
       "             V25       V26       V27       V28  Amount    scores  anomaly  \n",
       "270182 -0.278422  0.205186 -0.070767 -0.061594    0.89  0.283189        1  \n",
       "167012  0.164311  0.704779 -0.034488 -0.020146   12.31  0.257676        1  \n",
       "10835   0.037134  0.292187 -0.010337  0.019780   28.75  0.244576        1  \n",
       "79730   1.161491 -0.433349  0.009812  0.174898   97.99  0.186616        1  \n",
       "20021   0.557209 -0.217415  0.038962  0.000522   20.36  0.248948        1  \n",
       "80697   0.232842  0.092348 -0.020652  0.032906    7.46  0.289581        1  \n",
       "219051 -0.055735 -0.496787 -0.045039 -0.047929   53.99  0.276536        1  \n",
       "133103  0.584208 -0.332157  0.031227  0.020780   27.10  0.287075        1  \n",
       "69003   0.498810 -0.636314  0.117561  0.083312    9.99  0.237053        1  \n",
       "53976   0.011561  0.999437 -0.013104  0.015742    1.00  0.276625        1  \n",
       "\n",
       "[10 rows x 31 columns]"
      ],
      "text/html": "<div>\n<style scoped>\n    .dataframe tbody tr th:only-of-type {\n        vertical-align: middle;\n    }\n\n    .dataframe tbody tr th {\n        vertical-align: top;\n    }\n\n    .dataframe thead th {\n        text-align: right;\n    }\n</style>\n<table border=\"1\" class=\"dataframe\">\n  <thead>\n    <tr style=\"text-align: right;\">\n      <th></th>\n      <th>V1</th>\n      <th>V2</th>\n      <th>V3</th>\n      <th>V4</th>\n      <th>V5</th>\n      <th>V6</th>\n      <th>V7</th>\n      <th>V8</th>\n      <th>V9</th>\n      <th>V10</th>\n      <th>...</th>\n      <th>V22</th>\n      <th>V23</th>\n      <th>V24</th>\n      <th>V25</th>\n      <th>V26</th>\n      <th>V27</th>\n      <th>V28</th>\n      <th>Amount</th>\n      <th>scores</th>\n      <th>anomaly</th>\n    </tr>\n  </thead>\n  <tbody>\n    <tr>\n      <th>270182</th>\n      <td>2.074446</td>\n      <td>-0.051311</td>\n      <td>-1.125447</td>\n      <td>0.381088</td>\n      <td>-0.071318</td>\n      <td>-1.129921</td>\n      <td>0.180242</td>\n      <td>-0.325239</td>\n      <td>0.552013</td>\n      <td>0.073988</td>\n      <td>...</td>\n      <td>-0.725924</td>\n      <td>0.322798</td>\n      <td>-0.110465</td>\n      <td>-0.278422</td>\n      <td>0.205186</td>\n      <td>-0.070767</td>\n      <td>-0.061594</td>\n      <td>0.89</td>\n      <td>0.283189</td>\n      <td>1</td>\n    </tr>\n    <tr>\n      <th>167012</th>\n      <td>1.961458</td>\n      <td>0.298406</td>\n      <td>-2.109769</td>\n      <td>0.833410</td>\n      <td>0.439954</td>\n      <td>-1.096451</td>\n      <td>0.169290</td>\n      <td>-0.196620</td>\n      <td>0.378535</td>\n      <td>-0.914761</td>\n      <td>...</td>\n      <td>0.475696</td>\n      <td>-0.049442</td>\n      <td>-0.106097</td>\n      <td>0.164311</td>\n      <td>0.704779</td>\n      <td>-0.034488</td>\n      <td>-0.020146</td>\n      <td>12.31</td>\n      <td>0.257676</td>\n      <td>1</td>\n    </tr>\n    <tr>\n      <th>10835</th>\n      <td>1.078624</td>\n      <td>-0.301565</td>\n      <td>1.429603</td>\n      <td>1.130334</td>\n      <td>-1.194051</td>\n      <td>-0.014737</td>\n      <td>-0.903896</td>\n      <td>0.224024</td>\n      <td>2.503583</td>\n      <td>-0.603231</td>\n      <td>...</td>\n      <td>-0.263649</td>\n      <td>0.120773</td>\n      <td>0.331576</td>\n      <td>0.037134</td>\n      <td>0.292187</td>\n      <td>-0.010337</td>\n      <td>0.019780</td>\n      <td>28.75</td>\n      <td>0.244576</td>\n      <td>1</td>\n    </tr>\n    <tr>\n      <th>79730</th>\n      <td>-0.926324</td>\n      <td>0.431985</td>\n      <td>1.051679</td>\n      <td>-1.433141</td>\n      <td>-1.405051</td>\n      <td>1.004504</td>\n      <td>-2.554209</td>\n      <td>-5.085090</td>\n      <td>-1.418752</td>\n      <td>-1.050937</td>\n      <td>...</td>\n      <td>0.116544</td>\n      <td>-0.161920</td>\n      <td>-0.028926</td>\n      <td>1.161491</td>\n      <td>-0.433349</td>\n      <td>0.009812</td>\n      <td>0.174898</td>\n      <td>97.99</td>\n      <td>0.186616</td>\n      <td>1</td>\n    </tr>\n    <tr>\n      <th>20021</th>\n      <td>1.521927</td>\n      <td>-1.117359</td>\n      <td>0.105876</td>\n      <td>-1.519436</td>\n      <td>-0.946673</td>\n      <td>0.262277</td>\n      <td>-1.061673</td>\n      <td>0.009803</td>\n      <td>-1.757256</td>\n      <td>1.441678</td>\n      <td>...</td>\n      <td>-0.657415</td>\n      <td>-0.105422</td>\n      <td>-0.827495</td>\n      <td>0.557209</td>\n      <td>-0.217415</td>\n      <td>0.038962</td>\n      <td>0.000522</td>\n      <td>20.36</td>\n      <td>0.248948</td>\n      <td>1</td>\n    </tr>\n    <tr>\n      <th>80697</th>\n      <td>1.246103</td>\n      <td>0.374990</td>\n      <td>0.308599</td>\n      <td>0.691633</td>\n      <td>-0.326985</td>\n      <td>-1.055426</td>\n      <td>0.130505</td>\n      <td>-0.235387</td>\n      <td>-0.048864</td>\n      <td>-0.301027</td>\n      <td>...</td>\n      <td>-0.790059</td>\n      <td>0.117263</td>\n      <td>0.354762</td>\n      <td>0.232842</td>\n      <td>0.092348</td>\n      <td>-0.020652</td>\n      <td>0.032906</td>\n      <td>7.46</td>\n      <td>0.289581</td>\n      <td>1</td>\n    </tr>\n    <tr>\n      <th>219051</th>\n      <td>1.976323</td>\n      <td>-0.130516</td>\n      <td>-1.478505</td>\n      <td>0.395703</td>\n      <td>-0.042205</td>\n      <td>-1.502000</td>\n      <td>0.456258</td>\n      <td>-0.400838</td>\n      <td>0.575771</td>\n      <td>0.001721</td>\n      <td>...</td>\n      <td>-0.406974</td>\n      <td>0.194390</td>\n      <td>-0.003309</td>\n      <td>-0.055735</td>\n      <td>-0.496787</td>\n      <td>-0.045039</td>\n      <td>-0.047929</td>\n      <td>53.99</td>\n      <td>0.276536</td>\n      <td>1</td>\n    </tr>\n    <tr>\n      <th>133103</th>\n      <td>1.105083</td>\n      <td>0.095438</td>\n      <td>0.503572</td>\n      <td>1.492774</td>\n      <td>-0.399885</td>\n      <td>-0.379883</td>\n      <td>0.042413</td>\n      <td>0.007338</td>\n      <td>0.394743</td>\n      <td>-0.108986</td>\n      <td>...</td>\n      <td>-0.075736</td>\n      <td>-0.028014</td>\n      <td>0.398740</td>\n      <td>0.584208</td>\n      <td>-0.332157</td>\n      <td>0.031227</td>\n      <td>0.020780</td>\n      <td>27.10</td>\n      <td>0.287075</td>\n      <td>1</td>\n    </tr>\n    <tr>\n      <th>69003</th>\n      <td>-0.774510</td>\n      <td>0.351818</td>\n      <td>2.592611</td>\n      <td>-1.977984</td>\n      <td>-0.770797</td>\n      <td>-0.769754</td>\n      <td>0.067784</td>\n      <td>0.093489</td>\n      <td>1.113209</td>\n      <td>-1.794762</td>\n      <td>...</td>\n      <td>0.970546</td>\n      <td>-0.411986</td>\n      <td>0.413941</td>\n      <td>0.498810</td>\n      <td>-0.636314</td>\n      <td>0.117561</td>\n      <td>0.083312</td>\n      <td>9.99</td>\n      <td>0.237053</td>\n      <td>1</td>\n    </tr>\n    <tr>\n      <th>53976</th>\n      <td>1.165798</td>\n      <td>-0.317388</td>\n      <td>1.295899</td>\n      <td>0.182243</td>\n      <td>-1.162435</td>\n      <td>-0.180699</td>\n      <td>-0.744596</td>\n      <td>0.138758</td>\n      <td>1.007516</td>\n      <td>-0.441157</td>\n      <td>...</td>\n      <td>0.064854</td>\n      <td>0.132054</td>\n      <td>0.486502</td>\n      <td>0.011561</td>\n      <td>0.999437</td>\n      <td>-0.013104</td>\n      <td>0.015742</td>\n      <td>1.00</td>\n      <td>0.276625</td>\n      <td>1</td>\n    </tr>\n  </tbody>\n</table>\n<p>10 rows × 31 columns</p>\n</div>"
     },
     "metadata": {},
     "execution_count": 13
    }
   ],
   "source": [
    "df_train.sample(10)"
   ]
  },
  {
   "cell_type": "code",
   "execution_count": 14,
   "metadata": {},
   "outputs": [],
   "source": [
    "df_train['anomaly'] = df_train['anomaly'].replace(1,0)\n",
    "df_train['anomaly'] = df_train['anomaly'].replace(-1,1)"
   ]
  },
  {
   "cell_type": "code",
   "execution_count": 15,
   "metadata": {},
   "outputs": [
    {
     "output_type": "execute_result",
     "data": {
      "text/plain": [
       "0    284322\n",
       "1       485\n",
       "Name: anomaly, dtype: int64"
      ]
     },
     "metadata": {},
     "execution_count": 15
    }
   ],
   "source": [
    "df_train['anomaly'].value_counts()"
   ]
  },
  {
   "cell_type": "markdown",
   "metadata": {},
   "source": [
    "Check if the model can make a good prediction on test dataset"
   ]
  },
  {
   "cell_type": "code",
   "execution_count": 16,
   "metadata": {},
   "outputs": [
    {
     "output_type": "execute_result",
     "data": {
      "text/plain": [
       "         V1        V2        V3        V4        V5        V6        V7  \\\n",
       "0 -1.359807 -0.072781  2.536347  1.378155 -0.338321  0.462388  0.239599   \n",
       "1  1.191857  0.266151  0.166480  0.448154  0.060018 -0.082361 -0.078803   \n",
       "2 -1.358354 -1.340163  1.773209  0.379780 -0.503198  1.800499  0.791461   \n",
       "3 -0.966272 -0.185226  1.792993 -0.863291 -0.010309  1.247203  0.237609   \n",
       "4 -1.158233  0.877737  1.548718  0.403034 -0.407193  0.095921  0.592941   \n",
       "\n",
       "         V8        V9       V10  ...       V21       V22       V23       V24  \\\n",
       "0  0.098698  0.363787  0.090794  ... -0.018307  0.277838 -0.110474  0.066928   \n",
       "1  0.085102 -0.255425 -0.166974  ... -0.225775 -0.638672  0.101288 -0.339846   \n",
       "2  0.247676 -1.514654  0.207643  ...  0.247998  0.771679  0.909412 -0.689281   \n",
       "3  0.377436 -1.387024 -0.054952  ... -0.108300  0.005274 -0.190321 -1.175575   \n",
       "4 -0.270533  0.817739  0.753074  ... -0.009431  0.798278 -0.137458  0.141267   \n",
       "\n",
       "        V25       V26       V27       V28  Amount  Class  \n",
       "0  0.128539 -0.189115  0.133558 -0.021053  149.62      0  \n",
       "1  0.167170  0.125895 -0.008983  0.014724    2.69      0  \n",
       "2 -0.327642 -0.139097 -0.055353 -0.059752  378.66      0  \n",
       "3  0.647376 -0.221929  0.062723  0.061458  123.50      0  \n",
       "4 -0.206010  0.502292  0.219422  0.215153   69.99      0  \n",
       "\n",
       "[5 rows x 30 columns]"
      ],
      "text/html": "<div>\n<style scoped>\n    .dataframe tbody tr th:only-of-type {\n        vertical-align: middle;\n    }\n\n    .dataframe tbody tr th {\n        vertical-align: top;\n    }\n\n    .dataframe thead th {\n        text-align: right;\n    }\n</style>\n<table border=\"1\" class=\"dataframe\">\n  <thead>\n    <tr style=\"text-align: right;\">\n      <th></th>\n      <th>V1</th>\n      <th>V2</th>\n      <th>V3</th>\n      <th>V4</th>\n      <th>V5</th>\n      <th>V6</th>\n      <th>V7</th>\n      <th>V8</th>\n      <th>V9</th>\n      <th>V10</th>\n      <th>...</th>\n      <th>V21</th>\n      <th>V22</th>\n      <th>V23</th>\n      <th>V24</th>\n      <th>V25</th>\n      <th>V26</th>\n      <th>V27</th>\n      <th>V28</th>\n      <th>Amount</th>\n      <th>Class</th>\n    </tr>\n  </thead>\n  <tbody>\n    <tr>\n      <th>0</th>\n      <td>-1.359807</td>\n      <td>-0.072781</td>\n      <td>2.536347</td>\n      <td>1.378155</td>\n      <td>-0.338321</td>\n      <td>0.462388</td>\n      <td>0.239599</td>\n      <td>0.098698</td>\n      <td>0.363787</td>\n      <td>0.090794</td>\n      <td>...</td>\n      <td>-0.018307</td>\n      <td>0.277838</td>\n      <td>-0.110474</td>\n      <td>0.066928</td>\n      <td>0.128539</td>\n      <td>-0.189115</td>\n      <td>0.133558</td>\n      <td>-0.021053</td>\n      <td>149.62</td>\n      <td>0</td>\n    </tr>\n    <tr>\n      <th>1</th>\n      <td>1.191857</td>\n      <td>0.266151</td>\n      <td>0.166480</td>\n      <td>0.448154</td>\n      <td>0.060018</td>\n      <td>-0.082361</td>\n      <td>-0.078803</td>\n      <td>0.085102</td>\n      <td>-0.255425</td>\n      <td>-0.166974</td>\n      <td>...</td>\n      <td>-0.225775</td>\n      <td>-0.638672</td>\n      <td>0.101288</td>\n      <td>-0.339846</td>\n      <td>0.167170</td>\n      <td>0.125895</td>\n      <td>-0.008983</td>\n      <td>0.014724</td>\n      <td>2.69</td>\n      <td>0</td>\n    </tr>\n    <tr>\n      <th>2</th>\n      <td>-1.358354</td>\n      <td>-1.340163</td>\n      <td>1.773209</td>\n      <td>0.379780</td>\n      <td>-0.503198</td>\n      <td>1.800499</td>\n      <td>0.791461</td>\n      <td>0.247676</td>\n      <td>-1.514654</td>\n      <td>0.207643</td>\n      <td>...</td>\n      <td>0.247998</td>\n      <td>0.771679</td>\n      <td>0.909412</td>\n      <td>-0.689281</td>\n      <td>-0.327642</td>\n      <td>-0.139097</td>\n      <td>-0.055353</td>\n      <td>-0.059752</td>\n      <td>378.66</td>\n      <td>0</td>\n    </tr>\n    <tr>\n      <th>3</th>\n      <td>-0.966272</td>\n      <td>-0.185226</td>\n      <td>1.792993</td>\n      <td>-0.863291</td>\n      <td>-0.010309</td>\n      <td>1.247203</td>\n      <td>0.237609</td>\n      <td>0.377436</td>\n      <td>-1.387024</td>\n      <td>-0.054952</td>\n      <td>...</td>\n      <td>-0.108300</td>\n      <td>0.005274</td>\n      <td>-0.190321</td>\n      <td>-1.175575</td>\n      <td>0.647376</td>\n      <td>-0.221929</td>\n      <td>0.062723</td>\n      <td>0.061458</td>\n      <td>123.50</td>\n      <td>0</td>\n    </tr>\n    <tr>\n      <th>4</th>\n      <td>-1.158233</td>\n      <td>0.877737</td>\n      <td>1.548718</td>\n      <td>0.403034</td>\n      <td>-0.407193</td>\n      <td>0.095921</td>\n      <td>0.592941</td>\n      <td>-0.270533</td>\n      <td>0.817739</td>\n      <td>0.753074</td>\n      <td>...</td>\n      <td>-0.009431</td>\n      <td>0.798278</td>\n      <td>-0.137458</td>\n      <td>0.141267</td>\n      <td>-0.206010</td>\n      <td>0.502292</td>\n      <td>0.219422</td>\n      <td>0.215153</td>\n      <td>69.99</td>\n      <td>0</td>\n    </tr>\n  </tbody>\n</table>\n<p>5 rows × 30 columns</p>\n</div>"
     },
     "metadata": {},
     "execution_count": 16
    }
   ],
   "source": [
    "df_test.head()"
   ]
  },
  {
   "cell_type": "code",
   "execution_count": 17,
   "metadata": {},
   "outputs": [],
   "source": [
    "is_fraud = df_test['Class']\n",
    "df_test = df_test.drop(columns=['Class'])"
   ]
  },
  {
   "cell_type": "code",
   "execution_count": 18,
   "metadata": {},
   "outputs": [],
   "source": [
    "scores = model.decision_function(df_test)\n",
    "anomaly = model.predict(df_test)"
   ]
  },
  {
   "cell_type": "code",
   "execution_count": 19,
   "metadata": {},
   "outputs": [],
   "source": [
    "df_test['scores'] = scores\n",
    "df_test['anomaly'] = anomaly\n",
    "df_test['is_fraud'] = is_fraud"
   ]
  },
  {
   "cell_type": "code",
   "execution_count": 20,
   "metadata": {},
   "outputs": [],
   "source": [
    "df_test['anomaly'] = df_test['anomaly'].replace(1,0)\n",
    "df_test['anomaly'] = df_test['anomaly'].replace(-1,1)"
   ]
  },
  {
   "cell_type": "code",
   "execution_count": 21,
   "metadata": {},
   "outputs": [
    {
     "output_type": "execute_result",
     "data": {
      "text/plain": [
       "         V1        V2        V3        V4        V5        V6        V7  \\\n",
       "0 -1.359807 -0.072781  2.536347  1.378155 -0.338321  0.462388  0.239599   \n",
       "1  1.191857  0.266151  0.166480  0.448154  0.060018 -0.082361 -0.078803   \n",
       "2 -1.358354 -1.340163  1.773209  0.379780 -0.503198  1.800499  0.791461   \n",
       "3 -0.966272 -0.185226  1.792993 -0.863291 -0.010309  1.247203  0.237609   \n",
       "4 -1.158233  0.877737  1.548718  0.403034 -0.407193  0.095921  0.592941   \n",
       "\n",
       "         V8        V9       V10  ...       V23       V24       V25       V26  \\\n",
       "0  0.098698  0.363787  0.090794  ... -0.110474  0.066928  0.128539 -0.189115   \n",
       "1  0.085102 -0.255425 -0.166974  ...  0.101288 -0.339846  0.167170  0.125895   \n",
       "2  0.247676 -1.514654  0.207643  ...  0.909412 -0.689281 -0.327642 -0.139097   \n",
       "3  0.377436 -1.387024 -0.054952  ... -0.190321 -1.175575  0.647376 -0.221929   \n",
       "4 -0.270533  0.817739  0.753074  ... -0.137458  0.141267 -0.206010  0.502292   \n",
       "\n",
       "        V27       V28  Amount    scores  anomaly  is_fraud  \n",
       "0  0.133558 -0.021053  149.62  0.279812        0         0  \n",
       "1 -0.008983  0.014724    2.69  0.297002        0         0  \n",
       "2 -0.055353 -0.059752  378.66  0.196430        0         0  \n",
       "3  0.062723  0.061458  123.50  0.244303        0         0  \n",
       "4  0.219422  0.215153   69.99  0.255477        0         0  \n",
       "\n",
       "[5 rows x 32 columns]"
      ],
      "text/html": "<div>\n<style scoped>\n    .dataframe tbody tr th:only-of-type {\n        vertical-align: middle;\n    }\n\n    .dataframe tbody tr th {\n        vertical-align: top;\n    }\n\n    .dataframe thead th {\n        text-align: right;\n    }\n</style>\n<table border=\"1\" class=\"dataframe\">\n  <thead>\n    <tr style=\"text-align: right;\">\n      <th></th>\n      <th>V1</th>\n      <th>V2</th>\n      <th>V3</th>\n      <th>V4</th>\n      <th>V5</th>\n      <th>V6</th>\n      <th>V7</th>\n      <th>V8</th>\n      <th>V9</th>\n      <th>V10</th>\n      <th>...</th>\n      <th>V23</th>\n      <th>V24</th>\n      <th>V25</th>\n      <th>V26</th>\n      <th>V27</th>\n      <th>V28</th>\n      <th>Amount</th>\n      <th>scores</th>\n      <th>anomaly</th>\n      <th>is_fraud</th>\n    </tr>\n  </thead>\n  <tbody>\n    <tr>\n      <th>0</th>\n      <td>-1.359807</td>\n      <td>-0.072781</td>\n      <td>2.536347</td>\n      <td>1.378155</td>\n      <td>-0.338321</td>\n      <td>0.462388</td>\n      <td>0.239599</td>\n      <td>0.098698</td>\n      <td>0.363787</td>\n      <td>0.090794</td>\n      <td>...</td>\n      <td>-0.110474</td>\n      <td>0.066928</td>\n      <td>0.128539</td>\n      <td>-0.189115</td>\n      <td>0.133558</td>\n      <td>-0.021053</td>\n      <td>149.62</td>\n      <td>0.279812</td>\n      <td>0</td>\n      <td>0</td>\n    </tr>\n    <tr>\n      <th>1</th>\n      <td>1.191857</td>\n      <td>0.266151</td>\n      <td>0.166480</td>\n      <td>0.448154</td>\n      <td>0.060018</td>\n      <td>-0.082361</td>\n      <td>-0.078803</td>\n      <td>0.085102</td>\n      <td>-0.255425</td>\n      <td>-0.166974</td>\n      <td>...</td>\n      <td>0.101288</td>\n      <td>-0.339846</td>\n      <td>0.167170</td>\n      <td>0.125895</td>\n      <td>-0.008983</td>\n      <td>0.014724</td>\n      <td>2.69</td>\n      <td>0.297002</td>\n      <td>0</td>\n      <td>0</td>\n    </tr>\n    <tr>\n      <th>2</th>\n      <td>-1.358354</td>\n      <td>-1.340163</td>\n      <td>1.773209</td>\n      <td>0.379780</td>\n      <td>-0.503198</td>\n      <td>1.800499</td>\n      <td>0.791461</td>\n      <td>0.247676</td>\n      <td>-1.514654</td>\n      <td>0.207643</td>\n      <td>...</td>\n      <td>0.909412</td>\n      <td>-0.689281</td>\n      <td>-0.327642</td>\n      <td>-0.139097</td>\n      <td>-0.055353</td>\n      <td>-0.059752</td>\n      <td>378.66</td>\n      <td>0.196430</td>\n      <td>0</td>\n      <td>0</td>\n    </tr>\n    <tr>\n      <th>3</th>\n      <td>-0.966272</td>\n      <td>-0.185226</td>\n      <td>1.792993</td>\n      <td>-0.863291</td>\n      <td>-0.010309</td>\n      <td>1.247203</td>\n      <td>0.237609</td>\n      <td>0.377436</td>\n      <td>-1.387024</td>\n      <td>-0.054952</td>\n      <td>...</td>\n      <td>-0.190321</td>\n      <td>-1.175575</td>\n      <td>0.647376</td>\n      <td>-0.221929</td>\n      <td>0.062723</td>\n      <td>0.061458</td>\n      <td>123.50</td>\n      <td>0.244303</td>\n      <td>0</td>\n      <td>0</td>\n    </tr>\n    <tr>\n      <th>4</th>\n      <td>-1.158233</td>\n      <td>0.877737</td>\n      <td>1.548718</td>\n      <td>0.403034</td>\n      <td>-0.407193</td>\n      <td>0.095921</td>\n      <td>0.592941</td>\n      <td>-0.270533</td>\n      <td>0.817739</td>\n      <td>0.753074</td>\n      <td>...</td>\n      <td>-0.137458</td>\n      <td>0.141267</td>\n      <td>-0.206010</td>\n      <td>0.502292</td>\n      <td>0.219422</td>\n      <td>0.215153</td>\n      <td>69.99</td>\n      <td>0.255477</td>\n      <td>0</td>\n      <td>0</td>\n    </tr>\n  </tbody>\n</table>\n<p>5 rows × 32 columns</p>\n</div>"
     },
     "metadata": {},
     "execution_count": 21
    }
   ],
   "source": [
    "df_test.head()"
   ]
  },
  {
   "cell_type": "code",
   "execution_count": 22,
   "metadata": {},
   "outputs": [
    {
     "output_type": "execute_result",
     "data": {
      "text/plain": [
       "0.9974965502954632"
      ]
     },
     "metadata": {},
     "execution_count": 22
    }
   ],
   "source": [
    "accuracy_score(df_test['is_fraud'], df_test['anomaly'])"
   ]
  },
  {
   "cell_type": "code",
   "execution_count": 23,
   "metadata": {},
   "outputs": [],
   "source": [
    "only_frauds = df_test[df_test['anomaly'] == 1]"
   ]
  },
  {
   "cell_type": "code",
   "execution_count": 24,
   "metadata": {},
   "outputs": [
    {
     "output_type": "execute_result",
     "data": {
      "text/plain": [
       "             V1         V2         V3        V4         V5         V6  \\\n",
       "1632 -11.140706  -9.612726 -12.389545  6.013346 -32.092129  21.393069   \n",
       "2963  -6.200114   5.025406  -2.742492 -0.940903  -6.656259   5.432294   \n",
       "5425  -8.733429  -5.681953   2.253879  3.930311  -0.916149   4.355297   \n",
       "6783  -6.571336 -11.943892  -4.246322  6.825816  -2.896624   2.706661   \n",
       "6812 -23.066842 -25.640527  -3.080313  4.866932   6.901397  -4.074335   \n",
       "\n",
       "             V7         V8        V9       V10  ...        V23       V24  \\\n",
       "1632  34.303177  -7.520784 -1.925732 -2.636622  ...  -2.925888  0.843551   \n",
       "2963  -9.198175 -22.588547 -3.244295 -5.453339  ...   1.943002  0.846005   \n",
       "5425   5.400286  -4.994383  6.819787  6.764860  ...  -1.428302 -0.030181   \n",
       "6783   5.373923  -0.872187 -0.626203 -0.955356  ...  -3.731391 -1.015761   \n",
       "6812   2.027345  -2.688652  3.402966  2.881873  ...  13.876221 -0.572177   \n",
       "\n",
       "           V25       V26       V27       V28   Amount    scores  anomaly  \\\n",
       "1632  0.746267  0.801387  3.852046  4.157934  7712.43 -0.040277        1   \n",
       "2963 -1.343379 -0.707634 -0.210219  0.066529   544.62 -0.003555        1   \n",
       "5425 -0.029485 -0.264455 -7.976100  4.712560   553.60 -0.030867        1   \n",
       "6783 -0.740824 -0.297883 -0.793710  0.680622  4002.88 -0.015486        1   \n",
       "6812  5.525093  0.906980  3.358822  3.553906   845.73 -0.058301        1   \n",
       "\n",
       "      is_fraud  \n",
       "1632         0  \n",
       "2963         0  \n",
       "5425         0  \n",
       "6783         0  \n",
       "6812         0  \n",
       "\n",
       "[5 rows x 32 columns]"
      ],
      "text/html": "<div>\n<style scoped>\n    .dataframe tbody tr th:only-of-type {\n        vertical-align: middle;\n    }\n\n    .dataframe tbody tr th {\n        vertical-align: top;\n    }\n\n    .dataframe thead th {\n        text-align: right;\n    }\n</style>\n<table border=\"1\" class=\"dataframe\">\n  <thead>\n    <tr style=\"text-align: right;\">\n      <th></th>\n      <th>V1</th>\n      <th>V2</th>\n      <th>V3</th>\n      <th>V4</th>\n      <th>V5</th>\n      <th>V6</th>\n      <th>V7</th>\n      <th>V8</th>\n      <th>V9</th>\n      <th>V10</th>\n      <th>...</th>\n      <th>V23</th>\n      <th>V24</th>\n      <th>V25</th>\n      <th>V26</th>\n      <th>V27</th>\n      <th>V28</th>\n      <th>Amount</th>\n      <th>scores</th>\n      <th>anomaly</th>\n      <th>is_fraud</th>\n    </tr>\n  </thead>\n  <tbody>\n    <tr>\n      <th>1632</th>\n      <td>-11.140706</td>\n      <td>-9.612726</td>\n      <td>-12.389545</td>\n      <td>6.013346</td>\n      <td>-32.092129</td>\n      <td>21.393069</td>\n      <td>34.303177</td>\n      <td>-7.520784</td>\n      <td>-1.925732</td>\n      <td>-2.636622</td>\n      <td>...</td>\n      <td>-2.925888</td>\n      <td>0.843551</td>\n      <td>0.746267</td>\n      <td>0.801387</td>\n      <td>3.852046</td>\n      <td>4.157934</td>\n      <td>7712.43</td>\n      <td>-0.040277</td>\n      <td>1</td>\n      <td>0</td>\n    </tr>\n    <tr>\n      <th>2963</th>\n      <td>-6.200114</td>\n      <td>5.025406</td>\n      <td>-2.742492</td>\n      <td>-0.940903</td>\n      <td>-6.656259</td>\n      <td>5.432294</td>\n      <td>-9.198175</td>\n      <td>-22.588547</td>\n      <td>-3.244295</td>\n      <td>-5.453339</td>\n      <td>...</td>\n      <td>1.943002</td>\n      <td>0.846005</td>\n      <td>-1.343379</td>\n      <td>-0.707634</td>\n      <td>-0.210219</td>\n      <td>0.066529</td>\n      <td>544.62</td>\n      <td>-0.003555</td>\n      <td>1</td>\n      <td>0</td>\n    </tr>\n    <tr>\n      <th>5425</th>\n      <td>-8.733429</td>\n      <td>-5.681953</td>\n      <td>2.253879</td>\n      <td>3.930311</td>\n      <td>-0.916149</td>\n      <td>4.355297</td>\n      <td>5.400286</td>\n      <td>-4.994383</td>\n      <td>6.819787</td>\n      <td>6.764860</td>\n      <td>...</td>\n      <td>-1.428302</td>\n      <td>-0.030181</td>\n      <td>-0.029485</td>\n      <td>-0.264455</td>\n      <td>-7.976100</td>\n      <td>4.712560</td>\n      <td>553.60</td>\n      <td>-0.030867</td>\n      <td>1</td>\n      <td>0</td>\n    </tr>\n    <tr>\n      <th>6783</th>\n      <td>-6.571336</td>\n      <td>-11.943892</td>\n      <td>-4.246322</td>\n      <td>6.825816</td>\n      <td>-2.896624</td>\n      <td>2.706661</td>\n      <td>5.373923</td>\n      <td>-0.872187</td>\n      <td>-0.626203</td>\n      <td>-0.955356</td>\n      <td>...</td>\n      <td>-3.731391</td>\n      <td>-1.015761</td>\n      <td>-0.740824</td>\n      <td>-0.297883</td>\n      <td>-0.793710</td>\n      <td>0.680622</td>\n      <td>4002.88</td>\n      <td>-0.015486</td>\n      <td>1</td>\n      <td>0</td>\n    </tr>\n    <tr>\n      <th>6812</th>\n      <td>-23.066842</td>\n      <td>-25.640527</td>\n      <td>-3.080313</td>\n      <td>4.866932</td>\n      <td>6.901397</td>\n      <td>-4.074335</td>\n      <td>2.027345</td>\n      <td>-2.688652</td>\n      <td>3.402966</td>\n      <td>2.881873</td>\n      <td>...</td>\n      <td>13.876221</td>\n      <td>-0.572177</td>\n      <td>5.525093</td>\n      <td>0.906980</td>\n      <td>3.358822</td>\n      <td>3.553906</td>\n      <td>845.73</td>\n      <td>-0.058301</td>\n      <td>1</td>\n      <td>0</td>\n    </tr>\n  </tbody>\n</table>\n<p>5 rows × 32 columns</p>\n</div>"
     },
     "metadata": {},
     "execution_count": 24
    }
   ],
   "source": [
    "only_frauds.head()"
   ]
  },
  {
   "cell_type": "code",
   "execution_count": 25,
   "metadata": {},
   "outputs": [
    {
     "output_type": "execute_result",
     "data": {
      "text/plain": [
       "0.2721649484536082"
      ]
     },
     "metadata": {},
     "execution_count": 25
    }
   ],
   "source": [
    "accuracy_score(only_frauds['is_fraud'], only_frauds['anomaly'])"
   ]
  },
  {
   "cell_type": "markdown",
   "metadata": {},
   "source": [
    "Unfortunately the model only got one right."
   ]
  }
 ],
 "metadata": {
  "kernelspec": {
   "name": "python3",
   "display_name": "Python 3.9.5 64-bit ('pos': conda)"
  },
  "language_info": {
   "codemirror_mode": {
    "name": "ipython",
    "version": 3
   },
   "file_extension": ".py",
   "mimetype": "text/x-python",
   "name": "python",
   "nbconvert_exporter": "python",
   "pygments_lexer": "ipython3",
   "version": "3.9.5"
  },
  "interpreter": {
   "hash": "5b9a9829bfd4bd22d5b3b20a990b98b71f85420816dd0dfc2e76761f41c6bb45"
  }
 },
 "nbformat": 4,
 "nbformat_minor": 4
}