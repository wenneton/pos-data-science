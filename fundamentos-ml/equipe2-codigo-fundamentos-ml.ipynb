{
  "nbformat": 4,
  "nbformat_minor": 0,
  "metadata": {
    "colab": {
      "name": "Cópia de equipe-2-fundamentos-de-machine-learning.ipynb",
      "provenance": [],
      "collapsed_sections": [
        "XLW91vPTlYGm",
        "q5Lm9v-ofFOF",
        "8fke6Zlkf-Qo",
        "HPEMSU3nKQ6u",
        "3Yc0J1c0KlYO",
        "xYdfHp-peAA6",
        "7EXhxCE3eCH1",
        "JI8QlmePeOoJ",
        "BJOeoPUPx0hJ"
      ]
    },
    "kernelspec": {
      "name": "python3",
      "display_name": "Python 3"
    },
    "language_info": {
      "name": "python"
    }
  },
  "cells": [
    {
      "cell_type": "markdown",
      "metadata": {
        "id": "AZRPVDOX-WR6"
      },
      "source": [
        "# Fundamentos de Machine Learning\n",
        "\n",
        "**Alunos**:\n",
        "\n",
        "* Andrea Monicque dos Santos Silva (amdss.cid20@uea.edu.br)\n",
        "* Francisco Marcelo Mendes Damasceno (fmmd.cid20@uea.edu.br)\n",
        "* Marcos Wenneton Araújo (mwvda.cid20@uea.edu.br)\n",
        "* Lucas Pereira Reis (lpr.cid20@uea.edu.br)"
      ]
    },
    {
      "cell_type": "markdown",
      "metadata": {
        "id": "spQh7dD0_vD4"
      },
      "source": [
        "## Bibliotecas"
      ]
    },
    {
      "cell_type": "code",
      "metadata": {
        "id": "wXvzTWZC_x-B",
        "colab": {
          "base_uri": "https://localhost:8080/"
        },
        "outputId": "2c5933cb-ff88-4153-925a-7f9cca0aaa33"
      },
      "source": [
        "import pandas as pd\n",
        "import numpy as np\n",
        "import matplotlib.pyplot as plt\n",
        "import seaborn as sns\n",
        "from sklearn.model_selection import train_test_split, StratifiedShuffleSplit, cross_val_score\n",
        "from sklearn.preprocessing import RobustScaler, StandardScaler, MinMaxScaler, normalize\n",
        "from imblearn.over_sampling import SMOTE, ADASYN\n",
        "from imblearn.metrics import classification_report_imbalanced\n",
        "from sklearn.neighbors import KNeighborsClassifier\n",
        "from sklearn.ensemble import RandomForestClassifier, IsolationForest\n",
        "from sklearn.naive_bayes import ComplementNB\n",
        "from sklearn.neural_network import MLPClassifier\n",
        "from sklearn.cluster import KMeans\n",
        "from sklearn.metrics import classification_report, accuracy_score, precision_score, recall_score, f1_score, roc_auc_score, plot_confusion_matrix, confusion_matrix, ConfusionMatrixDisplay\n",
        "from sklearn.model_selection import train_test_split, KFold, GridSearchCV\n",
        "import time\n",
        "from collections import Counter\n",
        "from math import sqrt\n",
        "import warnings\n",
        "\n",
        "warnings.filterwarnings('ignore')\n",
        "%matplotlib inline"
      ],
      "execution_count": 1,
      "outputs": [
        {
          "output_type": "stream",
          "text": [
            "/usr/local/lib/python3.7/dist-packages/sklearn/externals/six.py:31: FutureWarning: The module is deprecated in version 0.21 and will be removed in version 0.23 since we've dropped support for Python 2.7. Please rely on the official version of six (https://pypi.org/project/six/).\n",
            "  \"(https://pypi.org/project/six/).\", FutureWarning)\n",
            "/usr/local/lib/python3.7/dist-packages/sklearn/utils/deprecation.py:144: FutureWarning: The sklearn.neighbors.base module is  deprecated in version 0.22 and will be removed in version 0.24. The corresponding classes / functions should instead be imported from sklearn.neighbors. Anything that cannot be imported from sklearn.neighbors is now part of the private API.\n",
            "  warnings.warn(message, FutureWarning)\n",
            "/usr/local/lib/python3.7/dist-packages/sklearn/utils/deprecation.py:144: FutureWarning: The sklearn.metrics.classification module is  deprecated in version 0.22 and will be removed in version 0.24. The corresponding classes / functions should instead be imported from sklearn.metrics. Anything that cannot be imported from sklearn.metrics is now part of the private API.\n",
            "  warnings.warn(message, FutureWarning)\n"
          ],
          "name": "stderr"
        }
      ]
    },
    {
      "cell_type": "markdown",
      "metadata": {
        "id": "q01kuXvi-aTQ"
      },
      "source": [
        "## Base de Dados"
      ]
    },
    {
      "cell_type": "markdown",
      "metadata": {
        "id": "s8zs710wAU9h"
      },
      "source": [
        "Este dataset foi obtido do Kaggle: https://www.kaggle.com/mlg-ulb/creditcardfraud"
      ]
    },
    {
      "cell_type": "markdown",
      "metadata": {
        "id": "iDo9UIZcujKa"
      },
      "source": [
        "**Sobre o dataset: Detecção de fraude de cartão de crédito**"
      ]
    },
    {
      "cell_type": "markdown",
      "metadata": {
        "id": "cgShet_ttzCa"
      },
      "source": [
        "O conjunto de dados contém transações feitas por cartões de crédito em setembro de 2013 por titulares de cartões europeus.\n",
        "Este conjunto de dados apresenta transações que ocorreram em dois dias, onde temos 492 fraudes em 284.807 transações. O conjunto de dados é altamente desequilibrado, a classe positiva (fraudes) é responsável por 0,172% de todas as transações.\n",
        "\n",
        "Ele contém apenas variáveis ​​de entrada numéricas que são o resultado de uma transformação PCA. Infelizmente, devido a questões de confidencialidade, não foi possível fornecer os recursos originais e mais informações básicas sobre os dados. Os recursos V1, V2,… V28 são os componentes principais obtidos com o PCA, os únicos recursos que não foram transformados com o PCA são 'Tempo' e 'Quantidade'. O recurso 'Tempo' contém os segundos decorridos entre cada transação e a primeira transação no conjunto de dados. O recurso 'Amount' é o valor da transação. O recurso 'Classe' é a variável de resposta e assume o valor 1 em caso de fraude e 0 em caso contrário.\n",
        "\n",
        "O conjunto de dados foi coletado e analisado durante uma colaboração de pesquisa da Worldline e do Machine Learning Group ( http://mlg.ulb.ac.be ) da ULB (Université Libre de Bruxelles) sobre mineração de big data e detecção de fraude.\n",
        "Mais detalhes sobre projetos atuais e anteriores sobre tópicos relacionados estão disponíveis em https://www.researchgate.net/project/Fraud-detection-5 e na página do projeto DefeatFraud.\n"
      ]
    },
    {
      "cell_type": "code",
      "metadata": {
        "colab": {
          "base_uri": "https://localhost:8080/"
        },
        "id": "kiI4USHf-nkv",
        "outputId": "8d07e61c-2c55-41f4-d3fb-ddb80c684c83"
      },
      "source": [
        "# Downloading and extracting the dataset\n",
        "!wget http://underlabs.org/datasets/creditcard.zip -O creditcard.zip\n",
        "!unzip -o creditcard.zip"
      ],
      "execution_count": 2,
      "outputs": [
        {
          "output_type": "stream",
          "text": [
            "--2021-06-26 01:14:53--  http://underlabs.org/datasets/creditcard.zip\n",
            "Resolving underlabs.org (underlabs.org)... 45.79.220.137\n",
            "Connecting to underlabs.org (underlabs.org)|45.79.220.137|:80... connected.\n",
            "HTTP request sent, awaiting response... 200 OK\n",
            "Length: 69155672 (66M) [application/zip]\n",
            "Saving to: ‘creditcard.zip’\n",
            "\n",
            "creditcard.zip      100%[===================>]  65.95M  34.7MB/s    in 1.9s    \n",
            "\n",
            "2021-06-26 01:14:55 (34.7 MB/s) - ‘creditcard.zip’ saved [69155672/69155672]\n",
            "\n",
            "Archive:  creditcard.zip\n",
            "  inflating: creditcard.csv          \n"
          ],
          "name": "stdout"
        }
      ]
    },
    {
      "cell_type": "code",
      "metadata": {
        "id": "mbxnW9p5ANFK"
      },
      "source": [
        "df = pd.read_csv('creditcard.csv')"
      ],
      "execution_count": 3,
      "outputs": []
    },
    {
      "cell_type": "markdown",
      "metadata": {
        "id": "XLW91vPTlYGm"
      },
      "source": [
        "## Análise e Exploração dos Dados"
      ]
    },
    {
      "cell_type": "code",
      "metadata": {
        "colab": {
          "base_uri": "https://localhost:8080/",
          "height": 224
        },
        "id": "mhBTw-QTASMw",
        "outputId": "89de398c-4099-4c1b-e145-abe6d02f7a37"
      },
      "source": [
        "df.head()"
      ],
      "execution_count": 4,
      "outputs": [
        {
          "output_type": "execute_result",
          "data": {
            "text/html": [
              "<div>\n",
              "<style scoped>\n",
              "    .dataframe tbody tr th:only-of-type {\n",
              "        vertical-align: middle;\n",
              "    }\n",
              "\n",
              "    .dataframe tbody tr th {\n",
              "        vertical-align: top;\n",
              "    }\n",
              "\n",
              "    .dataframe thead th {\n",
              "        text-align: right;\n",
              "    }\n",
              "</style>\n",
              "<table border=\"1\" class=\"dataframe\">\n",
              "  <thead>\n",
              "    <tr style=\"text-align: right;\">\n",
              "      <th></th>\n",
              "      <th>Time</th>\n",
              "      <th>V1</th>\n",
              "      <th>V2</th>\n",
              "      <th>V3</th>\n",
              "      <th>V4</th>\n",
              "      <th>V5</th>\n",
              "      <th>V6</th>\n",
              "      <th>V7</th>\n",
              "      <th>V8</th>\n",
              "      <th>V9</th>\n",
              "      <th>V10</th>\n",
              "      <th>V11</th>\n",
              "      <th>V12</th>\n",
              "      <th>V13</th>\n",
              "      <th>V14</th>\n",
              "      <th>V15</th>\n",
              "      <th>V16</th>\n",
              "      <th>V17</th>\n",
              "      <th>V18</th>\n",
              "      <th>V19</th>\n",
              "      <th>V20</th>\n",
              "      <th>V21</th>\n",
              "      <th>V22</th>\n",
              "      <th>V23</th>\n",
              "      <th>V24</th>\n",
              "      <th>V25</th>\n",
              "      <th>V26</th>\n",
              "      <th>V27</th>\n",
              "      <th>V28</th>\n",
              "      <th>Amount</th>\n",
              "      <th>Class</th>\n",
              "    </tr>\n",
              "  </thead>\n",
              "  <tbody>\n",
              "    <tr>\n",
              "      <th>0</th>\n",
              "      <td>0.0</td>\n",
              "      <td>-1.359807</td>\n",
              "      <td>-0.072781</td>\n",
              "      <td>2.536347</td>\n",
              "      <td>1.378155</td>\n",
              "      <td>-0.338321</td>\n",
              "      <td>0.462388</td>\n",
              "      <td>0.239599</td>\n",
              "      <td>0.098698</td>\n",
              "      <td>0.363787</td>\n",
              "      <td>0.090794</td>\n",
              "      <td>-0.551600</td>\n",
              "      <td>-0.617801</td>\n",
              "      <td>-0.991390</td>\n",
              "      <td>-0.311169</td>\n",
              "      <td>1.468177</td>\n",
              "      <td>-0.470401</td>\n",
              "      <td>0.207971</td>\n",
              "      <td>0.025791</td>\n",
              "      <td>0.403993</td>\n",
              "      <td>0.251412</td>\n",
              "      <td>-0.018307</td>\n",
              "      <td>0.277838</td>\n",
              "      <td>-0.110474</td>\n",
              "      <td>0.066928</td>\n",
              "      <td>0.128539</td>\n",
              "      <td>-0.189115</td>\n",
              "      <td>0.133558</td>\n",
              "      <td>-0.021053</td>\n",
              "      <td>149.62</td>\n",
              "      <td>0</td>\n",
              "    </tr>\n",
              "    <tr>\n",
              "      <th>1</th>\n",
              "      <td>0.0</td>\n",
              "      <td>1.191857</td>\n",
              "      <td>0.266151</td>\n",
              "      <td>0.166480</td>\n",
              "      <td>0.448154</td>\n",
              "      <td>0.060018</td>\n",
              "      <td>-0.082361</td>\n",
              "      <td>-0.078803</td>\n",
              "      <td>0.085102</td>\n",
              "      <td>-0.255425</td>\n",
              "      <td>-0.166974</td>\n",
              "      <td>1.612727</td>\n",
              "      <td>1.065235</td>\n",
              "      <td>0.489095</td>\n",
              "      <td>-0.143772</td>\n",
              "      <td>0.635558</td>\n",
              "      <td>0.463917</td>\n",
              "      <td>-0.114805</td>\n",
              "      <td>-0.183361</td>\n",
              "      <td>-0.145783</td>\n",
              "      <td>-0.069083</td>\n",
              "      <td>-0.225775</td>\n",
              "      <td>-0.638672</td>\n",
              "      <td>0.101288</td>\n",
              "      <td>-0.339846</td>\n",
              "      <td>0.167170</td>\n",
              "      <td>0.125895</td>\n",
              "      <td>-0.008983</td>\n",
              "      <td>0.014724</td>\n",
              "      <td>2.69</td>\n",
              "      <td>0</td>\n",
              "    </tr>\n",
              "    <tr>\n",
              "      <th>2</th>\n",
              "      <td>1.0</td>\n",
              "      <td>-1.358354</td>\n",
              "      <td>-1.340163</td>\n",
              "      <td>1.773209</td>\n",
              "      <td>0.379780</td>\n",
              "      <td>-0.503198</td>\n",
              "      <td>1.800499</td>\n",
              "      <td>0.791461</td>\n",
              "      <td>0.247676</td>\n",
              "      <td>-1.514654</td>\n",
              "      <td>0.207643</td>\n",
              "      <td>0.624501</td>\n",
              "      <td>0.066084</td>\n",
              "      <td>0.717293</td>\n",
              "      <td>-0.165946</td>\n",
              "      <td>2.345865</td>\n",
              "      <td>-2.890083</td>\n",
              "      <td>1.109969</td>\n",
              "      <td>-0.121359</td>\n",
              "      <td>-2.261857</td>\n",
              "      <td>0.524980</td>\n",
              "      <td>0.247998</td>\n",
              "      <td>0.771679</td>\n",
              "      <td>0.909412</td>\n",
              "      <td>-0.689281</td>\n",
              "      <td>-0.327642</td>\n",
              "      <td>-0.139097</td>\n",
              "      <td>-0.055353</td>\n",
              "      <td>-0.059752</td>\n",
              "      <td>378.66</td>\n",
              "      <td>0</td>\n",
              "    </tr>\n",
              "    <tr>\n",
              "      <th>3</th>\n",
              "      <td>1.0</td>\n",
              "      <td>-0.966272</td>\n",
              "      <td>-0.185226</td>\n",
              "      <td>1.792993</td>\n",
              "      <td>-0.863291</td>\n",
              "      <td>-0.010309</td>\n",
              "      <td>1.247203</td>\n",
              "      <td>0.237609</td>\n",
              "      <td>0.377436</td>\n",
              "      <td>-1.387024</td>\n",
              "      <td>-0.054952</td>\n",
              "      <td>-0.226487</td>\n",
              "      <td>0.178228</td>\n",
              "      <td>0.507757</td>\n",
              "      <td>-0.287924</td>\n",
              "      <td>-0.631418</td>\n",
              "      <td>-1.059647</td>\n",
              "      <td>-0.684093</td>\n",
              "      <td>1.965775</td>\n",
              "      <td>-1.232622</td>\n",
              "      <td>-0.208038</td>\n",
              "      <td>-0.108300</td>\n",
              "      <td>0.005274</td>\n",
              "      <td>-0.190321</td>\n",
              "      <td>-1.175575</td>\n",
              "      <td>0.647376</td>\n",
              "      <td>-0.221929</td>\n",
              "      <td>0.062723</td>\n",
              "      <td>0.061458</td>\n",
              "      <td>123.50</td>\n",
              "      <td>0</td>\n",
              "    </tr>\n",
              "    <tr>\n",
              "      <th>4</th>\n",
              "      <td>2.0</td>\n",
              "      <td>-1.158233</td>\n",
              "      <td>0.877737</td>\n",
              "      <td>1.548718</td>\n",
              "      <td>0.403034</td>\n",
              "      <td>-0.407193</td>\n",
              "      <td>0.095921</td>\n",
              "      <td>0.592941</td>\n",
              "      <td>-0.270533</td>\n",
              "      <td>0.817739</td>\n",
              "      <td>0.753074</td>\n",
              "      <td>-0.822843</td>\n",
              "      <td>0.538196</td>\n",
              "      <td>1.345852</td>\n",
              "      <td>-1.119670</td>\n",
              "      <td>0.175121</td>\n",
              "      <td>-0.451449</td>\n",
              "      <td>-0.237033</td>\n",
              "      <td>-0.038195</td>\n",
              "      <td>0.803487</td>\n",
              "      <td>0.408542</td>\n",
              "      <td>-0.009431</td>\n",
              "      <td>0.798278</td>\n",
              "      <td>-0.137458</td>\n",
              "      <td>0.141267</td>\n",
              "      <td>-0.206010</td>\n",
              "      <td>0.502292</td>\n",
              "      <td>0.219422</td>\n",
              "      <td>0.215153</td>\n",
              "      <td>69.99</td>\n",
              "      <td>0</td>\n",
              "    </tr>\n",
              "  </tbody>\n",
              "</table>\n",
              "</div>"
            ],
            "text/plain": [
              "   Time        V1        V2        V3  ...       V27       V28  Amount  Class\n",
              "0   0.0 -1.359807 -0.072781  2.536347  ...  0.133558 -0.021053  149.62      0\n",
              "1   0.0  1.191857  0.266151  0.166480  ... -0.008983  0.014724    2.69      0\n",
              "2   1.0 -1.358354 -1.340163  1.773209  ... -0.055353 -0.059752  378.66      0\n",
              "3   1.0 -0.966272 -0.185226  1.792993  ...  0.062723  0.061458  123.50      0\n",
              "4   2.0 -1.158233  0.877737  1.548718  ...  0.219422  0.215153   69.99      0\n",
              "\n",
              "[5 rows x 31 columns]"
            ]
          },
          "metadata": {
            "tags": []
          },
          "execution_count": 4
        }
      ]
    },
    {
      "cell_type": "markdown",
      "metadata": {
        "id": "J2TPxSUn38BQ"
      },
      "source": [
        "**Análisando o dataset**"
      ]
    },
    {
      "cell_type": "markdown",
      "metadata": {
        "id": "DwzlAWvM4Ofu"
      },
      "source": [
        "Este é composto por 31 campos de dados onde 30 são floats e 1 é inteiro, sendo este a classe  que é a categorização da transação, se é fraudulenta ou não. O dataset contém 284807 registros de dados e não há presença de nullos."
      ]
    },
    {
      "cell_type": "code",
      "metadata": {
        "colab": {
          "base_uri": "https://localhost:8080/"
        },
        "id": "dSvmgyKr2LVX",
        "outputId": "8d0d98da-1f2b-4825-d8d9-27236015a508"
      },
      "source": [
        "df.info()"
      ],
      "execution_count": 5,
      "outputs": [
        {
          "output_type": "stream",
          "text": [
            "<class 'pandas.core.frame.DataFrame'>\n",
            "RangeIndex: 284807 entries, 0 to 284806\n",
            "Data columns (total 31 columns):\n",
            " #   Column  Non-Null Count   Dtype  \n",
            "---  ------  --------------   -----  \n",
            " 0   Time    284807 non-null  float64\n",
            " 1   V1      284807 non-null  float64\n",
            " 2   V2      284807 non-null  float64\n",
            " 3   V3      284807 non-null  float64\n",
            " 4   V4      284807 non-null  float64\n",
            " 5   V5      284807 non-null  float64\n",
            " 6   V6      284807 non-null  float64\n",
            " 7   V7      284807 non-null  float64\n",
            " 8   V8      284807 non-null  float64\n",
            " 9   V9      284807 non-null  float64\n",
            " 10  V10     284807 non-null  float64\n",
            " 11  V11     284807 non-null  float64\n",
            " 12  V12     284807 non-null  float64\n",
            " 13  V13     284807 non-null  float64\n",
            " 14  V14     284807 non-null  float64\n",
            " 15  V15     284807 non-null  float64\n",
            " 16  V16     284807 non-null  float64\n",
            " 17  V17     284807 non-null  float64\n",
            " 18  V18     284807 non-null  float64\n",
            " 19  V19     284807 non-null  float64\n",
            " 20  V20     284807 non-null  float64\n",
            " 21  V21     284807 non-null  float64\n",
            " 22  V22     284807 non-null  float64\n",
            " 23  V23     284807 non-null  float64\n",
            " 24  V24     284807 non-null  float64\n",
            " 25  V25     284807 non-null  float64\n",
            " 26  V26     284807 non-null  float64\n",
            " 27  V27     284807 non-null  float64\n",
            " 28  V28     284807 non-null  float64\n",
            " 29  Amount  284807 non-null  float64\n",
            " 30  Class   284807 non-null  int64  \n",
            "dtypes: float64(30), int64(1)\n",
            "memory usage: 67.4 MB\n"
          ],
          "name": "stdout"
        }
      ]
    },
    {
      "cell_type": "markdown",
      "metadata": {
        "id": "iChHJsan5O1D"
      },
      "source": [
        "**Virificação de dados faltantes**\n",
        "\n"
      ]
    },
    {
      "cell_type": "markdown",
      "metadata": {
        "id": "NSSL5nAR5fjF"
      },
      "source": [
        "Não há presença de dados faltantes no dataset."
      ]
    },
    {
      "cell_type": "code",
      "metadata": {
        "colab": {
          "base_uri": "https://localhost:8080/"
        },
        "id": "Q4TOQf1o2Sp-",
        "outputId": "c018b0f2-159b-460b-cbb2-361cda93f8da"
      },
      "source": [
        "df.isna().sum()"
      ],
      "execution_count": 6,
      "outputs": [
        {
          "output_type": "execute_result",
          "data": {
            "text/plain": [
              "Time      0\n",
              "V1        0\n",
              "V2        0\n",
              "V3        0\n",
              "V4        0\n",
              "V5        0\n",
              "V6        0\n",
              "V7        0\n",
              "V8        0\n",
              "V9        0\n",
              "V10       0\n",
              "V11       0\n",
              "V12       0\n",
              "V13       0\n",
              "V14       0\n",
              "V15       0\n",
              "V16       0\n",
              "V17       0\n",
              "V18       0\n",
              "V19       0\n",
              "V20       0\n",
              "V21       0\n",
              "V22       0\n",
              "V23       0\n",
              "V24       0\n",
              "V25       0\n",
              "V26       0\n",
              "V27       0\n",
              "V28       0\n",
              "Amount    0\n",
              "Class     0\n",
              "dtype: int64"
            ]
          },
          "metadata": {
            "tags": []
          },
          "execution_count": 6
        }
      ]
    },
    {
      "cell_type": "markdown",
      "metadata": {
        "id": "60P2CGjY5p6_"
      },
      "source": [
        "**Análise estatística**"
      ]
    },
    {
      "cell_type": "markdown",
      "metadata": {
        "id": "pvv5Jei65yx9"
      },
      "source": [
        "Na maioria dos campos há alta variabilidade dos dados, onde estes estão distantes da média.É possível visualizar também ao olharmos para os percentis abaixo."
      ]
    },
    {
      "cell_type": "code",
      "metadata": {
        "colab": {
          "base_uri": "https://localhost:8080/",
          "height": 317
        },
        "id": "xttBBkl_2b9D",
        "outputId": "6bbe7493-2b65-46f5-836c-8775f3308c29"
      },
      "source": [
        "df.describe()"
      ],
      "execution_count": 7,
      "outputs": [
        {
          "output_type": "execute_result",
          "data": {
            "text/html": [
              "<div>\n",
              "<style scoped>\n",
              "    .dataframe tbody tr th:only-of-type {\n",
              "        vertical-align: middle;\n",
              "    }\n",
              "\n",
              "    .dataframe tbody tr th {\n",
              "        vertical-align: top;\n",
              "    }\n",
              "\n",
              "    .dataframe thead th {\n",
              "        text-align: right;\n",
              "    }\n",
              "</style>\n",
              "<table border=\"1\" class=\"dataframe\">\n",
              "  <thead>\n",
              "    <tr style=\"text-align: right;\">\n",
              "      <th></th>\n",
              "      <th>Time</th>\n",
              "      <th>V1</th>\n",
              "      <th>V2</th>\n",
              "      <th>V3</th>\n",
              "      <th>V4</th>\n",
              "      <th>V5</th>\n",
              "      <th>V6</th>\n",
              "      <th>V7</th>\n",
              "      <th>V8</th>\n",
              "      <th>V9</th>\n",
              "      <th>V10</th>\n",
              "      <th>V11</th>\n",
              "      <th>V12</th>\n",
              "      <th>V13</th>\n",
              "      <th>V14</th>\n",
              "      <th>V15</th>\n",
              "      <th>V16</th>\n",
              "      <th>V17</th>\n",
              "      <th>V18</th>\n",
              "      <th>V19</th>\n",
              "      <th>V20</th>\n",
              "      <th>V21</th>\n",
              "      <th>V22</th>\n",
              "      <th>V23</th>\n",
              "      <th>V24</th>\n",
              "      <th>V25</th>\n",
              "      <th>V26</th>\n",
              "      <th>V27</th>\n",
              "      <th>V28</th>\n",
              "      <th>Amount</th>\n",
              "      <th>Class</th>\n",
              "    </tr>\n",
              "  </thead>\n",
              "  <tbody>\n",
              "    <tr>\n",
              "      <th>count</th>\n",
              "      <td>284807.000000</td>\n",
              "      <td>2.848070e+05</td>\n",
              "      <td>2.848070e+05</td>\n",
              "      <td>2.848070e+05</td>\n",
              "      <td>2.848070e+05</td>\n",
              "      <td>2.848070e+05</td>\n",
              "      <td>2.848070e+05</td>\n",
              "      <td>2.848070e+05</td>\n",
              "      <td>2.848070e+05</td>\n",
              "      <td>2.848070e+05</td>\n",
              "      <td>2.848070e+05</td>\n",
              "      <td>2.848070e+05</td>\n",
              "      <td>2.848070e+05</td>\n",
              "      <td>2.848070e+05</td>\n",
              "      <td>2.848070e+05</td>\n",
              "      <td>2.848070e+05</td>\n",
              "      <td>2.848070e+05</td>\n",
              "      <td>2.848070e+05</td>\n",
              "      <td>2.848070e+05</td>\n",
              "      <td>2.848070e+05</td>\n",
              "      <td>2.848070e+05</td>\n",
              "      <td>2.848070e+05</td>\n",
              "      <td>2.848070e+05</td>\n",
              "      <td>2.848070e+05</td>\n",
              "      <td>2.848070e+05</td>\n",
              "      <td>2.848070e+05</td>\n",
              "      <td>2.848070e+05</td>\n",
              "      <td>2.848070e+05</td>\n",
              "      <td>2.848070e+05</td>\n",
              "      <td>284807.000000</td>\n",
              "      <td>284807.000000</td>\n",
              "    </tr>\n",
              "    <tr>\n",
              "      <th>mean</th>\n",
              "      <td>94813.859575</td>\n",
              "      <td>3.919560e-15</td>\n",
              "      <td>5.688174e-16</td>\n",
              "      <td>-8.769071e-15</td>\n",
              "      <td>2.782312e-15</td>\n",
              "      <td>-1.552563e-15</td>\n",
              "      <td>2.010663e-15</td>\n",
              "      <td>-1.694249e-15</td>\n",
              "      <td>-1.927028e-16</td>\n",
              "      <td>-3.137024e-15</td>\n",
              "      <td>1.768627e-15</td>\n",
              "      <td>9.170318e-16</td>\n",
              "      <td>-1.810658e-15</td>\n",
              "      <td>1.693438e-15</td>\n",
              "      <td>1.479045e-15</td>\n",
              "      <td>3.482336e-15</td>\n",
              "      <td>1.392007e-15</td>\n",
              "      <td>-7.528491e-16</td>\n",
              "      <td>4.328772e-16</td>\n",
              "      <td>9.049732e-16</td>\n",
              "      <td>5.085503e-16</td>\n",
              "      <td>1.537294e-16</td>\n",
              "      <td>7.959909e-16</td>\n",
              "      <td>5.367590e-16</td>\n",
              "      <td>4.458112e-15</td>\n",
              "      <td>1.453003e-15</td>\n",
              "      <td>1.699104e-15</td>\n",
              "      <td>-3.660161e-16</td>\n",
              "      <td>-1.206049e-16</td>\n",
              "      <td>88.349619</td>\n",
              "      <td>0.001727</td>\n",
              "    </tr>\n",
              "    <tr>\n",
              "      <th>std</th>\n",
              "      <td>47488.145955</td>\n",
              "      <td>1.958696e+00</td>\n",
              "      <td>1.651309e+00</td>\n",
              "      <td>1.516255e+00</td>\n",
              "      <td>1.415869e+00</td>\n",
              "      <td>1.380247e+00</td>\n",
              "      <td>1.332271e+00</td>\n",
              "      <td>1.237094e+00</td>\n",
              "      <td>1.194353e+00</td>\n",
              "      <td>1.098632e+00</td>\n",
              "      <td>1.088850e+00</td>\n",
              "      <td>1.020713e+00</td>\n",
              "      <td>9.992014e-01</td>\n",
              "      <td>9.952742e-01</td>\n",
              "      <td>9.585956e-01</td>\n",
              "      <td>9.153160e-01</td>\n",
              "      <td>8.762529e-01</td>\n",
              "      <td>8.493371e-01</td>\n",
              "      <td>8.381762e-01</td>\n",
              "      <td>8.140405e-01</td>\n",
              "      <td>7.709250e-01</td>\n",
              "      <td>7.345240e-01</td>\n",
              "      <td>7.257016e-01</td>\n",
              "      <td>6.244603e-01</td>\n",
              "      <td>6.056471e-01</td>\n",
              "      <td>5.212781e-01</td>\n",
              "      <td>4.822270e-01</td>\n",
              "      <td>4.036325e-01</td>\n",
              "      <td>3.300833e-01</td>\n",
              "      <td>250.120109</td>\n",
              "      <td>0.041527</td>\n",
              "    </tr>\n",
              "    <tr>\n",
              "      <th>min</th>\n",
              "      <td>0.000000</td>\n",
              "      <td>-5.640751e+01</td>\n",
              "      <td>-7.271573e+01</td>\n",
              "      <td>-4.832559e+01</td>\n",
              "      <td>-5.683171e+00</td>\n",
              "      <td>-1.137433e+02</td>\n",
              "      <td>-2.616051e+01</td>\n",
              "      <td>-4.355724e+01</td>\n",
              "      <td>-7.321672e+01</td>\n",
              "      <td>-1.343407e+01</td>\n",
              "      <td>-2.458826e+01</td>\n",
              "      <td>-4.797473e+00</td>\n",
              "      <td>-1.868371e+01</td>\n",
              "      <td>-5.791881e+00</td>\n",
              "      <td>-1.921433e+01</td>\n",
              "      <td>-4.498945e+00</td>\n",
              "      <td>-1.412985e+01</td>\n",
              "      <td>-2.516280e+01</td>\n",
              "      <td>-9.498746e+00</td>\n",
              "      <td>-7.213527e+00</td>\n",
              "      <td>-5.449772e+01</td>\n",
              "      <td>-3.483038e+01</td>\n",
              "      <td>-1.093314e+01</td>\n",
              "      <td>-4.480774e+01</td>\n",
              "      <td>-2.836627e+00</td>\n",
              "      <td>-1.029540e+01</td>\n",
              "      <td>-2.604551e+00</td>\n",
              "      <td>-2.256568e+01</td>\n",
              "      <td>-1.543008e+01</td>\n",
              "      <td>0.000000</td>\n",
              "      <td>0.000000</td>\n",
              "    </tr>\n",
              "    <tr>\n",
              "      <th>25%</th>\n",
              "      <td>54201.500000</td>\n",
              "      <td>-9.203734e-01</td>\n",
              "      <td>-5.985499e-01</td>\n",
              "      <td>-8.903648e-01</td>\n",
              "      <td>-8.486401e-01</td>\n",
              "      <td>-6.915971e-01</td>\n",
              "      <td>-7.682956e-01</td>\n",
              "      <td>-5.540759e-01</td>\n",
              "      <td>-2.086297e-01</td>\n",
              "      <td>-6.430976e-01</td>\n",
              "      <td>-5.354257e-01</td>\n",
              "      <td>-7.624942e-01</td>\n",
              "      <td>-4.055715e-01</td>\n",
              "      <td>-6.485393e-01</td>\n",
              "      <td>-4.255740e-01</td>\n",
              "      <td>-5.828843e-01</td>\n",
              "      <td>-4.680368e-01</td>\n",
              "      <td>-4.837483e-01</td>\n",
              "      <td>-4.988498e-01</td>\n",
              "      <td>-4.562989e-01</td>\n",
              "      <td>-2.117214e-01</td>\n",
              "      <td>-2.283949e-01</td>\n",
              "      <td>-5.423504e-01</td>\n",
              "      <td>-1.618463e-01</td>\n",
              "      <td>-3.545861e-01</td>\n",
              "      <td>-3.171451e-01</td>\n",
              "      <td>-3.269839e-01</td>\n",
              "      <td>-7.083953e-02</td>\n",
              "      <td>-5.295979e-02</td>\n",
              "      <td>5.600000</td>\n",
              "      <td>0.000000</td>\n",
              "    </tr>\n",
              "    <tr>\n",
              "      <th>50%</th>\n",
              "      <td>84692.000000</td>\n",
              "      <td>1.810880e-02</td>\n",
              "      <td>6.548556e-02</td>\n",
              "      <td>1.798463e-01</td>\n",
              "      <td>-1.984653e-02</td>\n",
              "      <td>-5.433583e-02</td>\n",
              "      <td>-2.741871e-01</td>\n",
              "      <td>4.010308e-02</td>\n",
              "      <td>2.235804e-02</td>\n",
              "      <td>-5.142873e-02</td>\n",
              "      <td>-9.291738e-02</td>\n",
              "      <td>-3.275735e-02</td>\n",
              "      <td>1.400326e-01</td>\n",
              "      <td>-1.356806e-02</td>\n",
              "      <td>5.060132e-02</td>\n",
              "      <td>4.807155e-02</td>\n",
              "      <td>6.641332e-02</td>\n",
              "      <td>-6.567575e-02</td>\n",
              "      <td>-3.636312e-03</td>\n",
              "      <td>3.734823e-03</td>\n",
              "      <td>-6.248109e-02</td>\n",
              "      <td>-2.945017e-02</td>\n",
              "      <td>6.781943e-03</td>\n",
              "      <td>-1.119293e-02</td>\n",
              "      <td>4.097606e-02</td>\n",
              "      <td>1.659350e-02</td>\n",
              "      <td>-5.213911e-02</td>\n",
              "      <td>1.342146e-03</td>\n",
              "      <td>1.124383e-02</td>\n",
              "      <td>22.000000</td>\n",
              "      <td>0.000000</td>\n",
              "    </tr>\n",
              "    <tr>\n",
              "      <th>75%</th>\n",
              "      <td>139320.500000</td>\n",
              "      <td>1.315642e+00</td>\n",
              "      <td>8.037239e-01</td>\n",
              "      <td>1.027196e+00</td>\n",
              "      <td>7.433413e-01</td>\n",
              "      <td>6.119264e-01</td>\n",
              "      <td>3.985649e-01</td>\n",
              "      <td>5.704361e-01</td>\n",
              "      <td>3.273459e-01</td>\n",
              "      <td>5.971390e-01</td>\n",
              "      <td>4.539234e-01</td>\n",
              "      <td>7.395934e-01</td>\n",
              "      <td>6.182380e-01</td>\n",
              "      <td>6.625050e-01</td>\n",
              "      <td>4.931498e-01</td>\n",
              "      <td>6.488208e-01</td>\n",
              "      <td>5.232963e-01</td>\n",
              "      <td>3.996750e-01</td>\n",
              "      <td>5.008067e-01</td>\n",
              "      <td>4.589494e-01</td>\n",
              "      <td>1.330408e-01</td>\n",
              "      <td>1.863772e-01</td>\n",
              "      <td>5.285536e-01</td>\n",
              "      <td>1.476421e-01</td>\n",
              "      <td>4.395266e-01</td>\n",
              "      <td>3.507156e-01</td>\n",
              "      <td>2.409522e-01</td>\n",
              "      <td>9.104512e-02</td>\n",
              "      <td>7.827995e-02</td>\n",
              "      <td>77.165000</td>\n",
              "      <td>0.000000</td>\n",
              "    </tr>\n",
              "    <tr>\n",
              "      <th>max</th>\n",
              "      <td>172792.000000</td>\n",
              "      <td>2.454930e+00</td>\n",
              "      <td>2.205773e+01</td>\n",
              "      <td>9.382558e+00</td>\n",
              "      <td>1.687534e+01</td>\n",
              "      <td>3.480167e+01</td>\n",
              "      <td>7.330163e+01</td>\n",
              "      <td>1.205895e+02</td>\n",
              "      <td>2.000721e+01</td>\n",
              "      <td>1.559499e+01</td>\n",
              "      <td>2.374514e+01</td>\n",
              "      <td>1.201891e+01</td>\n",
              "      <td>7.848392e+00</td>\n",
              "      <td>7.126883e+00</td>\n",
              "      <td>1.052677e+01</td>\n",
              "      <td>8.877742e+00</td>\n",
              "      <td>1.731511e+01</td>\n",
              "      <td>9.253526e+00</td>\n",
              "      <td>5.041069e+00</td>\n",
              "      <td>5.591971e+00</td>\n",
              "      <td>3.942090e+01</td>\n",
              "      <td>2.720284e+01</td>\n",
              "      <td>1.050309e+01</td>\n",
              "      <td>2.252841e+01</td>\n",
              "      <td>4.584549e+00</td>\n",
              "      <td>7.519589e+00</td>\n",
              "      <td>3.517346e+00</td>\n",
              "      <td>3.161220e+01</td>\n",
              "      <td>3.384781e+01</td>\n",
              "      <td>25691.160000</td>\n",
              "      <td>1.000000</td>\n",
              "    </tr>\n",
              "  </tbody>\n",
              "</table>\n",
              "</div>"
            ],
            "text/plain": [
              "                Time            V1  ...         Amount          Class\n",
              "count  284807.000000  2.848070e+05  ...  284807.000000  284807.000000\n",
              "mean    94813.859575  3.919560e-15  ...      88.349619       0.001727\n",
              "std     47488.145955  1.958696e+00  ...     250.120109       0.041527\n",
              "min         0.000000 -5.640751e+01  ...       0.000000       0.000000\n",
              "25%     54201.500000 -9.203734e-01  ...       5.600000       0.000000\n",
              "50%     84692.000000  1.810880e-02  ...      22.000000       0.000000\n",
              "75%    139320.500000  1.315642e+00  ...      77.165000       0.000000\n",
              "max    172792.000000  2.454930e+00  ...   25691.160000       1.000000\n",
              "\n",
              "[8 rows x 31 columns]"
            ]
          },
          "metadata": {
            "tags": []
          },
          "execution_count": 7
        }
      ]
    },
    {
      "cell_type": "code",
      "metadata": {
        "colab": {
          "base_uri": "https://localhost:8080/",
          "height": 896
        },
        "id": "_Y2IGE7DaaSR",
        "outputId": "0316f853-881d-4ad6-a8f3-3d682bb32b1b"
      },
      "source": [
        "# Matriz de Correlação\n",
        "\n",
        "corrMatrix = df.corr()\n",
        "fig, ax = plt.subplots(figsize=(15,15))\n",
        "sns.heatmap(corrMatrix, annot=False, linewidths=.5, ax=ax)\n",
        "plt.show()"
      ],
      "execution_count": 8,
      "outputs": [
        {
          "output_type": "display_data",
          "data": {
            "image/png": "[encoded data removed]",
            "text/plain": [
              "<Figure size 1080x1080 with 2 Axes>"
            ]
          },
          "metadata": {
            "tags": [],
            "needs_background": "light"
          }
        }
      ]
    },
    {
      "cell_type": "markdown",
      "metadata": {
        "id": "X86O-ZP86_w0"
      },
      "source": [
        "As 3 variáveis com  maior correlação, mesmo esta sendo baixa, são V11 E V4, as demais se aproximam mais de zero ou se compreendem abaixo. As variáveis v17 e v14 são os que tem a maior correlação negativa demonstrando irem em direção inversa a variável target Class."
      ]
    },
    {
      "cell_type": "code",
      "metadata": {
        "colab": {
          "base_uri": "https://localhost:8080/"
        },
        "id": "RvSJgUSH6834",
        "outputId": "fd570b32-21a9-49cf-ebf3-bb88d8bf3ce5"
      },
      "source": [
        "df.corr()['Class'].sort_values(ascending=False)"
      ],
      "execution_count": 9,
      "outputs": [
        {
          "output_type": "execute_result",
          "data": {
            "text/plain": [
              "Class     1.000000\n",
              "V11       0.154876\n",
              "V4        0.133447\n",
              "V2        0.091289\n",
              "V21       0.040413\n",
              "V19       0.034783\n",
              "V20       0.020090\n",
              "V8        0.019875\n",
              "V27       0.017580\n",
              "V28       0.009536\n",
              "Amount    0.005632\n",
              "V26       0.004455\n",
              "V25       0.003308\n",
              "V22       0.000805\n",
              "V23      -0.002685\n",
              "V15      -0.004223\n",
              "V13      -0.004570\n",
              "V24      -0.007221\n",
              "Time     -0.012323\n",
              "V6       -0.043643\n",
              "V5       -0.094974\n",
              "V9       -0.097733\n",
              "V1       -0.101347\n",
              "V18      -0.111485\n",
              "V7       -0.187257\n",
              "V3       -0.192961\n",
              "V16      -0.196539\n",
              "V10      -0.216883\n",
              "V12      -0.260593\n",
              "V14      -0.302544\n",
              "V17      -0.326481\n",
              "Name: Class, dtype: float64"
            ]
          },
          "metadata": {
            "tags": []
          },
          "execution_count": 9
        }
      ]
    },
    {
      "cell_type": "markdown",
      "metadata": {
        "id": "41y9Hil38_uM"
      },
      "source": [
        "Conforme informado na descrição do dataset, este está desbalanceado tendo menos amostras de transações fraudulentas e tendo 0 (transações normais) como classe majoritária. Abaixo foi plotado um gráfico para visualizar melhor essa diferença."
      ]
    },
    {
      "cell_type": "code",
      "metadata": {
        "colab": {
          "base_uri": "https://localhost:8080/",
          "height": 296
        },
        "id": "PYZh-gns1wJp",
        "outputId": "98ad0fda-f138-4506-b782-5c41ac0e422d"
      },
      "source": [
        "sns.countplot(df['Class'])"
      ],
      "execution_count": 10,
      "outputs": [
        {
          "output_type": "execute_result",
          "data": {
            "text/plain": [
              "<matplotlib.axes._subplots.AxesSubplot at 0x7fd035752510>"
            ]
          },
          "metadata": {
            "tags": []
          },
          "execution_count": 10
        },
        {
          "output_type": "display_data",
          "data": {
            "image/png": "[encoded data removed]",
            "text/plain": [
              "<Figure size 432x288 with 1 Axes>"
            ]
          },
          "metadata": {
            "tags": [],
            "needs_background": "light"
          }
        }
      ]
    },
    {
      "cell_type": "markdown",
      "metadata": {
        "id": "IufAsF3O_TuC"
      },
      "source": [
        "## Aprendizagem Supervisionada"
      ]
    },
    {
      "cell_type": "markdown",
      "metadata": {
        "id": "y7SnLHm8_X_S"
      },
      "source": [
        "### KNN"
      ]
    },
    {
      "cell_type": "code",
      "metadata": {
        "id": "aGK_taOQaqJ3"
      },
      "source": [
        "df_knn = df.copy()"
      ],
      "execution_count": 11,
      "outputs": []
    },
    {
      "cell_type": "markdown",
      "metadata": {
        "id": "i11nA4Bwa6YT"
      },
      "source": [
        "#### Normalizando features"
      ]
    },
    {
      "cell_type": "code",
      "metadata": {
        "id": "CFWjBbB6a_Y_"
      },
      "source": [
        "df_knn['S_AMOUNT'] = MinMaxScaler().fit_transform(df['Amount'].values.reshape(-1,1))\n",
        "df_knn[\"H_TIME\"] = df[\"Time\"]/3600"
      ],
      "execution_count": 12,
      "outputs": []
    },
    {
      "cell_type": "code",
      "metadata": {
        "id": "4XfgvT-MbdsX"
      },
      "source": [
        "X_knn = df_knn.drop(['Class','Time','Amount'], axis=1).values\n",
        "y_knn = df_knn['Class']"
      ],
      "execution_count": 13,
      "outputs": []
    },
    {
      "cell_type": "markdown",
      "metadata": {
        "id": "lB5Hgfh5MnJI"
      },
      "source": [
        "#### Encontrando o melhor valor de K"
      ]
    },
    {
      "cell_type": "code",
      "metadata": {
        "id": "L1FQa4aGMprA"
      },
      "source": [
        "knn = KNeighborsClassifier(metric='euclidean')\n",
        "kfold = KFold(n_splits=10, shuffle=True, random_state=42)\n",
        "param_grid = {\"n_neighbors\" : range(3, 6)}\n",
        " \n",
        "experiment = GridSearchCV(knn, param_grid=param_grid, cv=kfold)\n",
        "\n",
        "# Essa execução demora vários minutos por isso está comentada\n",
        "# experiment.fit(X_train, y_train)\n",
        "# print(f\"best params: {experiment.best_params_}\")\n",
        "# print(f\"best cv accuracy: {experiment.best_score_:0.3}\")"
      ],
      "execution_count": 14,
      "outputs": []
    },
    {
      "cell_type": "markdown",
      "metadata": {
        "id": "xQvfOPqXb-us"
      },
      "source": [
        "#### Separando os dados de Treino e Teste"
      ]
    },
    {
      "cell_type": "code",
      "metadata": {
        "id": "X_QRSTjbcBeg"
      },
      "source": [
        "X_train_knn, X_test_knn, y_train_knn, y_test_knn = train_test_split(X_knn, y_knn, test_size=0.3, random_state=42, stratify=y_knn)"
      ],
      "execution_count": 15,
      "outputs": []
    },
    {
      "cell_type": "markdown",
      "metadata": {
        "id": "jhwsvFNLcbtV"
      },
      "source": [
        "#### Treinando o Modelo"
      ]
    },
    {
      "cell_type": "code",
      "metadata": {
        "id": "2Bqj54COcgFx",
        "colab": {
          "base_uri": "https://localhost:8080/"
        },
        "outputId": "0ecd32fc-9770-4cea-eb8a-98dbac34dcc1"
      },
      "source": [
        "# Desbalanceado\n",
        "knn = KNeighborsClassifier(n_neighbors=3, weights='distance', algorithm='kd_tree', n_jobs=-1)\n",
        "knn.fit(X_train_knn, y_train_knn)"
      ],
      "execution_count": 16,
      "outputs": [
        {
          "output_type": "execute_result",
          "data": {
            "text/plain": [
              "KNeighborsClassifier(algorithm='kd_tree', leaf_size=30, metric='minkowski',\n",
              "                     metric_params=None, n_jobs=-1, n_neighbors=3, p=2,\n",
              "                     weights='distance')"
            ]
          },
          "metadata": {
            "tags": []
          },
          "execution_count": 16
        }
      ]
    },
    {
      "cell_type": "code",
      "metadata": {
        "id": "A-FAm_mpcsGy",
        "colab": {
          "base_uri": "https://localhost:8080/"
        },
        "outputId": "238cf14e-48d5-4afd-e7c5-3661e3abd97b"
      },
      "source": [
        "# Balanceado com SMOTE\n",
        "smote = SMOTE(random_state=42)\n",
        "X_smote_train_knn, y_smote_train_knn = smote.fit_resample(X_train_knn, y_train_knn)\n",
        "knns = KNeighborsClassifier(n_neighbors=3, weights='distance', algorithm='kd_tree', n_jobs=-1)\n",
        "knns.fit(X_smote_train_knn, y_smote_train_knn)"
      ],
      "execution_count": 17,
      "outputs": [
        {
          "output_type": "execute_result",
          "data": {
            "text/plain": [
              "KNeighborsClassifier(algorithm='kd_tree', leaf_size=30, metric='minkowski',\n",
              "                     metric_params=None, n_jobs=-1, n_neighbors=3, p=2,\n",
              "                     weights='distance')"
            ]
          },
          "metadata": {
            "tags": []
          },
          "execution_count": 17
        }
      ]
    },
    {
      "cell_type": "code",
      "metadata": {
        "id": "x1UPoRRYq7-z",
        "colab": {
          "base_uri": "https://localhost:8080/"
        },
        "outputId": "57508305-b36d-4559-ed24-3c64fa0b3d3a"
      },
      "source": [
        "# Balanceado com ADASYN\n",
        "ada = ADASYN(random_state=42)\n",
        "X_ada_train, y_ada_train = ada.fit_resample(X_train_knn, y_train_knn)\n",
        "knna = KNeighborsClassifier(n_neighbors=3, weights='distance', algorithm='kd_tree', n_jobs=-1)\n",
        "knna.fit(X_ada_train, y_ada_train)"
      ],
      "execution_count": 18,
      "outputs": [
        {
          "output_type": "execute_result",
          "data": {
            "text/plain": [
              "KNeighborsClassifier(algorithm='kd_tree', leaf_size=30, metric='minkowski',\n",
              "                     metric_params=None, n_jobs=-1, n_neighbors=3, p=2,\n",
              "                     weights='distance')"
            ]
          },
          "metadata": {
            "tags": []
          },
          "execution_count": 18
        }
      ]
    },
    {
      "cell_type": "markdown",
      "metadata": {
        "id": "V3zT1MyD_ZXR"
      },
      "source": [
        "### Naive Bayes"
      ]
    },
    {
      "cell_type": "code",
      "metadata": {
        "id": "UqP4Y89hfCs9"
      },
      "source": [
        "df_nb = df.copy()"
      ],
      "execution_count": 19,
      "outputs": []
    },
    {
      "cell_type": "markdown",
      "metadata": {
        "id": "q5Lm9v-ofFOF"
      },
      "source": [
        "#### Normalizando features"
      ]
    },
    {
      "cell_type": "code",
      "metadata": {
        "id": "hOwEqa4oe9P8"
      },
      "source": [
        "df_nb['S_AMOUNT'] = MinMaxScaler().fit_transform(df['Amount'].values.reshape(-1,1))\n",
        "df_nb[\"H_TIME\"] = df[\"Time\"]/3600"
      ],
      "execution_count": 20,
      "outputs": []
    },
    {
      "cell_type": "code",
      "metadata": {
        "id": "TE3GHHhJfvlp"
      },
      "source": [
        "X_nb = df_nb.drop(['Class','Time','Amount'], axis=1).values\n",
        "y_nb = df_nb['Class']"
      ],
      "execution_count": 21,
      "outputs": []
    },
    {
      "cell_type": "markdown",
      "metadata": {
        "id": "8fke6Zlkf-Qo"
      },
      "source": [
        "#### Separando os dados de Treino e Teste"
      ]
    },
    {
      "cell_type": "code",
      "metadata": {
        "id": "5p4Y8nGhgBc3"
      },
      "source": [
        "X_train_nb, X_test_nb, y_train_nb, y_test_nb = train_test_split(X_nb, y_nb, test_size=0.3, random_state=42, stratify=y_nb)"
      ],
      "execution_count": 22,
      "outputs": []
    },
    {
      "cell_type": "markdown",
      "metadata": {
        "id": "J54zK2mHgaD6"
      },
      "source": [
        "#### Treinando o Modelo"
      ]
    },
    {
      "cell_type": "code",
      "metadata": {
        "id": "56rBu66jgdas",
        "colab": {
          "base_uri": "https://localhost:8080/"
        },
        "outputId": "5cf35d46-10f1-4612-807f-2ca1404600d3"
      },
      "source": [
        "# Desbalanceado\n",
        "\n",
        "# Essa normalização é necessária pois o ComplementNB não trabalha com valores negativos\n",
        "scaler = MinMaxScaler()\n",
        "X_train_nb = scaler.fit_transform(X_train_nb)\n",
        "X_test_nb = scaler.fit_transform(X_test_nb)\n",
        "\n",
        "nb = ComplementNB()\n",
        "nb.fit(X_train_nb, y_train_nb)"
      ],
      "execution_count": 23,
      "outputs": [
        {
          "output_type": "execute_result",
          "data": {
            "text/plain": [
              "ComplementNB(alpha=1.0, class_prior=None, fit_prior=True, norm=False)"
            ]
          },
          "metadata": {
            "tags": []
          },
          "execution_count": 23
        }
      ]
    },
    {
      "cell_type": "code",
      "metadata": {
        "id": "x_FdZJVKgs9A",
        "colab": {
          "base_uri": "https://localhost:8080/"
        },
        "outputId": "2a60945d-68fd-4782-caeb-3b97ee06fe55"
      },
      "source": [
        "# Balanceado com SMOTE\n",
        "smote = SMOTE(random_state=42)\n",
        "X_smote_train_nb, y_smote_train_nb = smote.fit_resample(X_train_nb, y_train_nb)\n",
        "nbs = ComplementNB()\n",
        "nbs.fit(X_smote_train_nb, y_smote_train_nb)"
      ],
      "execution_count": 24,
      "outputs": [
        {
          "output_type": "execute_result",
          "data": {
            "text/plain": [
              "ComplementNB(alpha=1.0, class_prior=None, fit_prior=True, norm=False)"
            ]
          },
          "metadata": {
            "tags": []
          },
          "execution_count": 24
        }
      ]
    },
    {
      "cell_type": "code",
      "metadata": {
        "id": "jhqQOlqVrI-P",
        "colab": {
          "base_uri": "https://localhost:8080/"
        },
        "outputId": "6720d408-f2e3-4a08-c6b1-46875f333245"
      },
      "source": [
        "# Balanceado com ADASYN\n",
        "ada = ADASYN(random_state=42)\n",
        "X_ada_train_nb, y_ada_train_nb = ada.fit_resample(X_train_nb, y_train_nb)\n",
        "nba = ComplementNB()\n",
        "nba.fit(X_ada_train_nb, y_ada_train_nb)"
      ],
      "execution_count": 25,
      "outputs": [
        {
          "output_type": "execute_result",
          "data": {
            "text/plain": [
              "ComplementNB(alpha=1.0, class_prior=None, fit_prior=True, norm=False)"
            ]
          },
          "metadata": {
            "tags": []
          },
          "execution_count": 25
        }
      ]
    },
    {
      "cell_type": "markdown",
      "metadata": {
        "id": "_tQrhu6a_bTC"
      },
      "source": [
        "### Random Forest"
      ]
    },
    {
      "cell_type": "code",
      "metadata": {
        "id": "wTte7FoAMdga"
      },
      "source": [
        "df_rf = df.copy()"
      ],
      "execution_count": 26,
      "outputs": []
    },
    {
      "cell_type": "markdown",
      "metadata": {
        "id": "BDww3Tr1M_kj"
      },
      "source": [
        "#### Normalizando features"
      ]
    },
    {
      "cell_type": "code",
      "metadata": {
        "id": "hV4gfjp4M-2I"
      },
      "source": [
        "rs = RobustScaler()\n",
        "\n",
        "df_rf['Amount'] = rs.fit_transform(df_rf['Amount'].values.reshape(-1, 1))"
      ],
      "execution_count": 27,
      "outputs": []
    },
    {
      "cell_type": "code",
      "metadata": {
        "id": "JoAp5vPDNFiI"
      },
      "source": [
        "x_rf = df_rf.drop(['Class', 'Time'], axis=1)\n",
        "y_rf = df_rf['Class']"
      ],
      "execution_count": 28,
      "outputs": []
    },
    {
      "cell_type": "markdown",
      "metadata": {
        "id": "ESUN2mGLNnEh"
      },
      "source": [
        "#### Separando os dados de Treino e Teste"
      ]
    },
    {
      "cell_type": "code",
      "metadata": {
        "id": "H5USEhP4Np8t"
      },
      "source": [
        "x_train_rf, x_test_rf, y_train_rf, y_test_rf = train_test_split(x_rf, y_rf, test_size=0.3, random_state=42)"
      ],
      "execution_count": 29,
      "outputs": []
    },
    {
      "cell_type": "markdown",
      "metadata": {
        "id": "bUXA0S8JN5JO"
      },
      "source": [
        "#### Treinando o Modelo"
      ]
    },
    {
      "cell_type": "code",
      "metadata": {
        "id": "bUBKJTUoOOqS",
        "colab": {
          "base_uri": "https://localhost:8080/"
        },
        "outputId": "1be4275b-d96c-49e9-936c-0e70192fa0b1"
      },
      "source": [
        "rf_unbalanced = RandomForestClassifier(n_estimators=10, random_state=42)\n",
        "rf_unbalanced.fit(x_train_rf, y_train_rf)"
      ],
      "execution_count": 30,
      "outputs": [
        {
          "output_type": "execute_result",
          "data": {
            "text/plain": [
              "RandomForestClassifier(bootstrap=True, ccp_alpha=0.0, class_weight=None,\n",
              "                       criterion='gini', max_depth=None, max_features='auto',\n",
              "                       max_leaf_nodes=None, max_samples=None,\n",
              "                       min_impurity_decrease=0.0, min_impurity_split=None,\n",
              "                       min_samples_leaf=1, min_samples_split=2,\n",
              "                       min_weight_fraction_leaf=0.0, n_estimators=10,\n",
              "                       n_jobs=None, oob_score=False, random_state=42, verbose=0,\n",
              "                       warm_start=False)"
            ]
          },
          "metadata": {
            "tags": []
          },
          "execution_count": 30
        }
      ]
    },
    {
      "cell_type": "code",
      "metadata": {
        "id": "CZjNAqxJN6-j",
        "colab": {
          "base_uri": "https://localhost:8080/"
        },
        "outputId": "aaca5daa-a4d3-44f5-b025-a454827ca5c2"
      },
      "source": [
        "smote = SMOTE(random_state=42)\n",
        "x_smote_train_rf, y_smote_train_rf = smote.fit_resample(x_train_rf, y_train_rf)\n",
        "\n",
        "rf_smote = RandomForestClassifier(n_estimators=10, random_state=42)\n",
        "rf_smote.fit(x_smote_train_rf, y_smote_train_rf)"
      ],
      "execution_count": 31,
      "outputs": [
        {
          "output_type": "execute_result",
          "data": {
            "text/plain": [
              "RandomForestClassifier(bootstrap=True, ccp_alpha=0.0, class_weight=None,\n",
              "                       criterion='gini', max_depth=None, max_features='auto',\n",
              "                       max_leaf_nodes=None, max_samples=None,\n",
              "                       min_impurity_decrease=0.0, min_impurity_split=None,\n",
              "                       min_samples_leaf=1, min_samples_split=2,\n",
              "                       min_weight_fraction_leaf=0.0, n_estimators=10,\n",
              "                       n_jobs=None, oob_score=False, random_state=42, verbose=0,\n",
              "                       warm_start=False)"
            ]
          },
          "metadata": {
            "tags": []
          },
          "execution_count": 31
        }
      ]
    },
    {
      "cell_type": "code",
      "metadata": {
        "id": "rbtojYGnmJUe",
        "colab": {
          "base_uri": "https://localhost:8080/"
        },
        "outputId": "745deaa9-8862-4039-8153-f4314124ab54"
      },
      "source": [
        "adasyn = ADASYN(random_state=42)\n",
        "x_adasyn_train_rf, y_adasyn_train_rf = adasyn.fit_resample(x_train_rf, y_train_rf)\n",
        "\n",
        "rf_adasyn = RandomForestClassifier(n_estimators=10, random_state=42)\n",
        "rf_adasyn.fit(x_adasyn_train_rf, y_adasyn_train_rf)"
      ],
      "execution_count": 32,
      "outputs": [
        {
          "output_type": "execute_result",
          "data": {
            "text/plain": [
              "RandomForestClassifier(bootstrap=True, ccp_alpha=0.0, class_weight=None,\n",
              "                       criterion='gini', max_depth=None, max_features='auto',\n",
              "                       max_leaf_nodes=None, max_samples=None,\n",
              "                       min_impurity_decrease=0.0, min_impurity_split=None,\n",
              "                       min_samples_leaf=1, min_samples_split=2,\n",
              "                       min_weight_fraction_leaf=0.0, n_estimators=10,\n",
              "                       n_jobs=None, oob_score=False, random_state=42, verbose=0,\n",
              "                       warm_start=False)"
            ]
          },
          "metadata": {
            "tags": []
          },
          "execution_count": 32
        }
      ]
    },
    {
      "cell_type": "markdown",
      "metadata": {
        "id": "4hpOZR7K_cwQ"
      },
      "source": [
        "### Redes Neurais"
      ]
    },
    {
      "cell_type": "code",
      "metadata": {
        "id": "fjo1AUOas_Hq"
      },
      "source": [
        "df_mlp = df.copy()"
      ],
      "execution_count": 33,
      "outputs": []
    },
    {
      "cell_type": "markdown",
      "metadata": {
        "id": "1VnglrkwtBgs"
      },
      "source": [
        "#### Normalizando features"
      ]
    },
    {
      "cell_type": "code",
      "metadata": {
        "id": "Ng9pX9zWtK9U"
      },
      "source": [
        "rs = RobustScaler()\n",
        "\n",
        "df_mlp['Amount'] = rs.fit_transform(df_mlp['Amount'].values.reshape(-1, 1))"
      ],
      "execution_count": 34,
      "outputs": []
    },
    {
      "cell_type": "code",
      "metadata": {
        "id": "lUmm94DYtXJD"
      },
      "source": [
        "x_mlp = df_mlp.drop(['Class', 'Time'], axis=1)\n",
        "y_mlp = df_mlp['Class']"
      ],
      "execution_count": 35,
      "outputs": []
    },
    {
      "cell_type": "markdown",
      "metadata": {
        "id": "5AiCSk6StGo1"
      },
      "source": [
        "#### Separando os dados de Treino e Teste"
      ]
    },
    {
      "cell_type": "code",
      "metadata": {
        "id": "-9l6qigItg_S"
      },
      "source": [
        "x_train_mlp, x_test_mlp, y_train_mlp, y_test_mlp = train_test_split(x_mlp, y_mlp, test_size=0.3, random_state=42)"
      ],
      "execution_count": 36,
      "outputs": []
    },
    {
      "cell_type": "markdown",
      "metadata": {
        "id": "7ryK1LMctIzl"
      },
      "source": [
        "#### Treinando o Modelo"
      ]
    },
    {
      "cell_type": "code",
      "metadata": {
        "id": "4lrqwzn_tprN",
        "colab": {
          "base_uri": "https://localhost:8080/"
        },
        "outputId": "c448f666-6f82-4c81-aba8-88d3f294895e"
      },
      "source": [
        "mlp_unbalanced = MLPClassifier(random_state=42)\n",
        "mlp_unbalanced.fit(x_train_mlp, y_train_mlp)"
      ],
      "execution_count": 37,
      "outputs": [
        {
          "output_type": "execute_result",
          "data": {
            "text/plain": [
              "MLPClassifier(activation='relu', alpha=0.0001, batch_size='auto', beta_1=0.9,\n",
              "              beta_2=0.999, early_stopping=False, epsilon=1e-08,\n",
              "              hidden_layer_sizes=(100,), learning_rate='constant',\n",
              "              learning_rate_init=0.001, max_fun=15000, max_iter=200,\n",
              "              momentum=0.9, n_iter_no_change=10, nesterovs_momentum=True,\n",
              "              power_t=0.5, random_state=42, shuffle=True, solver='adam',\n",
              "              tol=0.0001, validation_fraction=0.1, verbose=False,\n",
              "              warm_start=False)"
            ]
          },
          "metadata": {
            "tags": []
          },
          "execution_count": 37
        }
      ]
    },
    {
      "cell_type": "code",
      "metadata": {
        "id": "RCcArApxvhIh",
        "colab": {
          "base_uri": "https://localhost:8080/"
        },
        "outputId": "5210a7bb-39f7-44ec-e7a6-31aae893a285"
      },
      "source": [
        "smote = SMOTE(random_state=42)\n",
        "x_smote_train_mlp, y_smote_train_mlp = smote.fit_resample(x_train_mlp, y_train_mlp)\n",
        "\n",
        "mlp_smote = MLPClassifier(random_state=42)\n",
        "mlp_smote.fit(x_smote_train_mlp, y_smote_train_mlp)"
      ],
      "execution_count": 38,
      "outputs": [
        {
          "output_type": "execute_result",
          "data": {
            "text/plain": [
              "MLPClassifier(activation='relu', alpha=0.0001, batch_size='auto', beta_1=0.9,\n",
              "              beta_2=0.999, early_stopping=False, epsilon=1e-08,\n",
              "              hidden_layer_sizes=(100,), learning_rate='constant',\n",
              "              learning_rate_init=0.001, max_fun=15000, max_iter=200,\n",
              "              momentum=0.9, n_iter_no_change=10, nesterovs_momentum=True,\n",
              "              power_t=0.5, random_state=42, shuffle=True, solver='adam',\n",
              "              tol=0.0001, validation_fraction=0.1, verbose=False,\n",
              "              warm_start=False)"
            ]
          },
          "metadata": {
            "tags": []
          },
          "execution_count": 38
        }
      ]
    },
    {
      "cell_type": "code",
      "metadata": {
        "id": "6eh1cxGev9da",
        "colab": {
          "base_uri": "https://localhost:8080/"
        },
        "outputId": "bca4879c-6a9a-4fb4-bdf3-3c8b03eccca8"
      },
      "source": [
        "adasyn = ADASYN(random_state=42)\n",
        "x_adasyn_train_mlp, y_adasyn_train_mlp = adasyn.fit_resample(x_train_mlp, y_train_mlp)\n",
        "\n",
        "mlp_adasyn = MLPClassifier(random_state=42)\n",
        "mlp_adasyn.fit(x_adasyn_train_mlp, y_adasyn_train_mlp)"
      ],
      "execution_count": 39,
      "outputs": [
        {
          "output_type": "execute_result",
          "data": {
            "text/plain": [
              "MLPClassifier(activation='relu', alpha=0.0001, batch_size='auto', beta_1=0.9,\n",
              "              beta_2=0.999, early_stopping=False, epsilon=1e-08,\n",
              "              hidden_layer_sizes=(100,), learning_rate='constant',\n",
              "              learning_rate_init=0.001, max_fun=15000, max_iter=200,\n",
              "              momentum=0.9, n_iter_no_change=10, nesterovs_momentum=True,\n",
              "              power_t=0.5, random_state=42, shuffle=True, solver='adam',\n",
              "              tol=0.0001, validation_fraction=0.1, verbose=False,\n",
              "              warm_start=False)"
            ]
          },
          "metadata": {
            "tags": []
          },
          "execution_count": 39
        }
      ]
    },
    {
      "cell_type": "markdown",
      "metadata": {
        "id": "2BKNfOWa_VbT"
      },
      "source": [
        "## Aprendizagem Não-Supervisionada"
      ]
    },
    {
      "cell_type": "markdown",
      "metadata": {
        "id": "fCCkXotu_hs7"
      },
      "source": [
        "### K-Means"
      ]
    },
    {
      "cell_type": "markdown",
      "metadata": {
        "id": "HPEMSU3nKQ6u"
      },
      "source": [
        "####**Buscando o valor de K**"
      ]
    },
    {
      "cell_type": "markdown",
      "metadata": {
        "id": "K7d4KU8oXcoD"
      },
      "source": [
        "- **Aplicando método Cotuvelo - Soma dos Quadrados**\n",
        "\n",
        "\n",
        "A ideia é rodar o KMeans para vários quantidades diferentes de clusters e dizer qual dessas quantidades é o número ótimo de clusters"
      ]
    },
    {
      "cell_type": "code",
      "metadata": {
        "id": "ccNjSL0yKKug"
      },
      "source": [
        "wcss = []\n",
        "\n",
        "for i in range(1,11):\n",
        "  kmeans = KMeans(n_clusters= i, max_iter= 300)\n",
        "  kmeans.fit(df.drop([\"Class\"],axis=1))\n",
        "  wcss.append(kmeans.inertia_)"
      ],
      "execution_count": 40,
      "outputs": []
    },
    {
      "cell_type": "markdown",
      "metadata": {
        "id": "nD25woUoi5Jh"
      },
      "source": [
        "inertia_ corresponde ao somatório dos erros quadráticos das instâncias de cada cluster"
      ]
    },
    {
      "cell_type": "code",
      "metadata": {
        "colab": {
          "base_uri": "https://localhost:8080/",
          "height": 295
        },
        "id": "wSFMfCYuKZOa",
        "outputId": "c2d5b011-5162-445f-fec3-417ecf1a7352"
      },
      "source": [
        "plt.plot(range(1,11), wcss, marker='o', color='red')\n",
        "plt.xlabel('Número de Clusters')\n",
        "plt.ylabel('Resultado')\n",
        "plt.title('Análise do melhor valor de K')\n",
        "plt.show()"
      ],
      "execution_count": 41,
      "outputs": [
        {
          "output_type": "display_data",
          "data": {
            "image/png": "[encoded data removed]",
            "text/plain": [
              "<Figure size 432x288 with 1 Axes>"
            ]
          },
          "metadata": {
            "tags": [],
            "needs_background": "light"
          }
        }
      ]
    },
    {
      "cell_type": "markdown",
      "metadata": {
        "id": "yjFqMBz_K2Ge"
      },
      "source": [
        "Como é esperado o melhor valor de K encontrado é 2. Podemos analisar através do gráfico acima que o valor de wcss diminui conforme o valor de K aumenta de modo que quando cluster é igual a 10 o valor de wcss é muito pequeno em comparação de quando K é igual a 1 o que é bom, porém estaríamos fazendo muitas partições. Podemos ver claramente que a partir do número de dois clusters não temos uma diminuição tão expressiva, logo vemos que ele é melhor valor de K."
      ]
    },
    {
      "cell_type": "markdown",
      "metadata": {
        "id": "L0zwd4eGcpiD"
      },
      "source": [
        "####**Experimento 1**"
      ]
    },
    {
      "cell_type": "markdown",
      "metadata": {
        "id": "n7zUin4z3Fwo"
      },
      "source": [
        "Neste trabalhamos com todo o conjunto de dados removendo apenas a variável Class (Rótulo). Este é dividido em full_labels que armazena a variável Class e "
      ]
    },
    {
      "cell_type": "code",
      "metadata": {
        "colab": {
          "base_uri": "https://localhost:8080/"
        },
        "id": "LR89ahY40iRt",
        "outputId": "d50de02b-8146-45a0-f12b-51c3eb452c45"
      },
      "source": [
        "tic=time.time()\n",
        "\n",
        "full_data=df.sample(frac=1) #randomizando todo o conjunto de dados\n",
        "full_features=full_data.drop([\"Class\"],axis=1)\n",
        "full_labels=pd.DataFrame(full_data[[\"Class\"]])\n",
        "full_features_array=full_features.values\n",
        "full_labels_array=full_labels.values\n",
        "\n",
        "#Separando o conjunto de treino e teste\n",
        "train_features,test_features,train_labels,test_labels=train_test_split(full_features_array,full_labels_array,train_size=0.70)\n",
        "\n",
        "#Normalizando Dados\n",
        "train_features=normalize(train_features)\n",
        "test_features=normalize(test_features)\n",
        "\n",
        "#k_means_classification --> k_means_clustering, confsion_matrix, reassigning\n",
        "kmeans=KMeans(n_clusters=2,random_state=0,algorithm=\"elkan\",max_iter=10000,n_jobs=-1)\n",
        "kmeans.fit(train_features)\n",
        "\n",
        "#teste de predição com dados de treino\n",
        "kmeans_predicted_train_labels=kmeans.predict(train_features)\n",
        "\n",
        "\n",
        "#confusion matrix\n",
        "# tn fp\n",
        "# fn tp\n",
        "print(\"tn --> true negatives\")\n",
        "print(\"fp --> false positives\")\n",
        "print(\"fn --> false negatives\")\n",
        "print(\"tp --> true positives\")\n",
        "\n",
        "tn,fp,fn,tp=confusion_matrix(train_labels,kmeans_predicted_train_labels).ravel()\n",
        "reassignflag=False\n",
        "\n",
        "if tn+tp<fn+fp:\n",
        "\t# o agrupamento é o oposto da classificação original\n",
        "\treassignflag=True\n",
        "\n",
        "#teste de predição com dados de teste\n",
        "kmeans_predicted_test_labels=kmeans.predict(test_features)\n",
        "\n",
        "if reassignflag:\n",
        "\tkmeans_predicted_test_labels=1-kmeans_predicted_test_labels\n",
        "\n",
        "\n",
        "#calculando a matriz de confusão para o kmeans\n",
        "tn,fp,fn,tp=confusion_matrix(test_labels,kmeans_predicted_test_labels).ravel()\n",
        "\n",
        "#scoring kmeans - tarabalhando com a amostra de teste e o resultado do modelo\n",
        "kmeans_accuracy_score = accuracy_score(test_labels,kmeans_predicted_test_labels)\n",
        "kmeans_precison_score = precision_score(test_labels,kmeans_predicted_test_labels)\n",
        "kmeans_recall_score = recall_score(test_labels,kmeans_predicted_test_labels)\n",
        "kmeans_f1_score = f1_score(test_labels,kmeans_predicted_test_labels)\n",
        "\n",
        "\n",
        "#printing\n",
        "print(\"\")\n",
        "print(\"K-Means\")\n",
        "print(\"Confusion Matrix\")\n",
        "print(\"tn =\",tn,\"fp =\",fp)\n",
        "print(\"fn =\",fn,\"tp =\",tp)\n",
        "print(\"Scores\")\n",
        "print(\"Accuracy -->\",kmeans_accuracy_score)\n",
        "print(\"Precison -->\",kmeans_precison_score)\n",
        "print(\"Recall -->\",kmeans_recall_score)\n",
        "print(\"F1 -->\",kmeans_f1_score)"
      ],
      "execution_count": 42,
      "outputs": [
        {
          "output_type": "stream",
          "text": [
            "tn --> true negatives\n",
            "fp --> false positives\n",
            "fn --> false negatives\n",
            "tp --> true positives\n",
            "\n",
            "K-Means\n",
            "Confusion Matrix\n",
            "tn = 85241 fp = 52\n",
            "fn = 150 tp = 0\n",
            "Scores\n",
            "Accuracy --> 0.9976358508011188\n",
            "Precison --> 0.0\n",
            "Recall --> 0.0\n",
            "F1 --> 0.0\n"
          ],
          "name": "stdout"
        }
      ]
    },
    {
      "cell_type": "markdown",
      "metadata": {
        "id": "Ev1XxLiTVEHv"
      },
      "source": [
        "####**Experimento 2**"
      ]
    },
    {
      "cell_type": "code",
      "metadata": {
        "colab": {
          "base_uri": "https://localhost:8080/"
        },
        "id": "ScXwn0z3yJho",
        "outputId": "88b2b60e-3d24-4793-9cd1-876ebaaec25e"
      },
      "source": [
        "tic=time.time()\n",
        "\n",
        "full_data=df.sample(frac=1) #randomizando todo o conjunto de dados\n",
        "full_features=full_data.drop([\"Time\",\"Class\"],axis=1)\n",
        "full_labels=pd.DataFrame(full_data[[\"Class\"]])\n",
        "full_features_array=full_features.values\n",
        "full_labels_array=full_labels.values\n",
        "\n",
        "#Separando o conjunto de treino e teste\n",
        "train_features,test_features,train_labels,test_labels=train_test_split(full_features_array,full_labels_array,train_size=0.70)\n",
        "\n",
        "#Normalizando Dados\n",
        "train_features=normalize(train_features)\n",
        "test_features=normalize(test_features)\n",
        "\n",
        "#k_means_classification --> k_means_clustering, confsion_matrix, reassigning\n",
        "kmeans=KMeans(n_clusters=2,random_state=0,algorithm=\"elkan\",max_iter=10000,n_jobs=-1)\n",
        "kmeans.fit(train_features)\n",
        "\n",
        "#teste de predição com dados de treino\n",
        "kmeans_predicted_train_labels=kmeans.predict(train_features)\n",
        "\n",
        "\n",
        "#confusion matrix\n",
        "# tn fp\n",
        "# fn tp\n",
        "print(\"tn --> true negatives\")\n",
        "print(\"fp --> false positives\")\n",
        "print(\"fn --> false negatives\")\n",
        "print(\"tp --> true positives\")\n",
        "\n",
        "tn,fp,fn,tp=confusion_matrix(train_labels,kmeans_predicted_train_labels).ravel()\n",
        "reassignflag=False\n",
        "\n",
        "if tn+tp<fn+fp:\n",
        "\t# o agrupamento é o oposto da classificação original\n",
        "\treassignflag=True\n",
        "\n",
        "#teste de predição com dados de teste\n",
        "kmeans_predicted_test_labels=kmeans.predict(test_features)\n",
        "\n",
        "if reassignflag:\n",
        "\tkmeans_predicted_test_labels=1-kmeans_predicted_test_labels\n",
        "\n",
        "\n",
        "#calculando a matriz de confusão para o kmeans\n",
        "tn,fp,fn,tp=confusion_matrix(test_labels,kmeans_predicted_test_labels).ravel()\n",
        "\n",
        "#scoring kmeans - tarabalhando com a amostra de teste e o resultado do modelo\n",
        "kmeans_accuracy_score = accuracy_score(test_labels,kmeans_predicted_test_labels)\n",
        "kmeans_precison_score = precision_score(test_labels,kmeans_predicted_test_labels)\n",
        "kmeans_recall_score = recall_score(test_labels,kmeans_predicted_test_labels)\n",
        "kmeans_f1_score = f1_score(test_labels,kmeans_predicted_test_labels)\n",
        "\n",
        "\n",
        "#printing\n",
        "print(\"\")\n",
        "print(\"K-Means\")\n",
        "print(\"Confusion Matrix\")\n",
        "print(\"tn =\",tn,\"fp =\",fp)\n",
        "print(\"fn =\",fn,\"tp =\",tp)\n",
        "print(\"Scores\")\n",
        "print(\"Accuracy -->\",kmeans_accuracy_score)\n",
        "print(\"Precison -->\",kmeans_precison_score)\n",
        "print(\"Recall -->\",kmeans_recall_score)\n",
        "print(\"F1 -->\",kmeans_f1_score)"
      ],
      "execution_count": 43,
      "outputs": [
        {
          "output_type": "stream",
          "text": [
            "tn --> true negatives\n",
            "fp --> false positives\n",
            "fn --> false negatives\n",
            "tp --> true positives\n",
            "\n",
            "K-Means\n",
            "Confusion Matrix\n",
            "tn = 67873 fp = 17422\n",
            "fn = 65 tp = 83\n",
            "Scores\n",
            "Accuracy --> 0.7953372423721077\n",
            "Precison --> 0.00474150242787775\n",
            "Recall --> 0.5608108108108109\n",
            "F1 --> 0.009403500821390133\n"
          ],
          "name": "stdout"
        }
      ]
    },
    {
      "cell_type": "markdown",
      "metadata": {
        "id": "3Yc0J1c0KlYO"
      },
      "source": [
        "###Isolation Forest"
      ]
    },
    {
      "cell_type": "code",
      "metadata": {
        "id": "EtnQ9sxX962R"
      },
      "source": [
        "df_iso_for = df.copy()"
      ],
      "execution_count": 44,
      "outputs": []
    },
    {
      "cell_type": "code",
      "metadata": {
        "id": "_pD_Gde9-KJV"
      },
      "source": [
        "df_iso_for['Amount'] = MinMaxScaler().fit_transform(df_iso_for['Amount'].values.reshape(-1,1))\n",
        "df_iso_for = df_iso_for.drop(columns=['Time'])"
      ],
      "execution_count": 45,
      "outputs": []
    },
    {
      "cell_type": "code",
      "metadata": {
        "id": "gTaGOBwz-h4p"
      },
      "source": [
        "legit = df_iso_for[df_iso_for.Class==0].copy()\n",
        "legit = legit.drop(['Class'], axis=1)\n",
        "fraud = df_iso_for[df_iso_for.Class==1].copy()\n",
        "fraud = fraud.drop(['Class'], axis=1)\n",
        "legit_train, legit_test = train_test_split(legit, test_size=0.30, random_state=42)"
      ],
      "execution_count": 46,
      "outputs": []
    },
    {
      "cell_type": "code",
      "metadata": {
        "id": "VQCygICQ-1as"
      },
      "source": [
        "iso_for = IsolationForest(random_state=42)\n",
        "iso_for.fit(legit_train)\n",
        "legit_pred_test = iso_for.predict(legit_test)\n",
        "fraud_pred = iso_for.predict(fraud)"
      ],
      "execution_count": 47,
      "outputs": []
    },
    {
      "cell_type": "code",
      "metadata": {
        "colab": {
          "base_uri": "https://localhost:8080/"
        },
        "id": "v6bKM2-i_00H",
        "outputId": "8122fc5d-f5f8-4d63-a692-6ae47a099649"
      },
      "source": [
        "print(\"Accuracy in Detecting Legit Cases:\", list(legit_pred_test).count(1)/legit_pred_test.shape[0])\n",
        "print(\"Accuracy in Detecting Fraud Cases:\", list(fraud_pred).count(-1)/fraud_pred.shape[0])"
      ],
      "execution_count": 48,
      "outputs": [
        {
          "output_type": "stream",
          "text": [
            "Accuracy in Detecting Legit Cases: 0.9639955448736737\n",
            "Accuracy in Detecting Fraud Cases: 0.8272357723577236\n"
          ],
          "name": "stdout"
        }
      ]
    },
    {
      "cell_type": "code",
      "metadata": {
        "id": "QxGBFlVwB9Sj"
      },
      "source": [
        "# Adjusting model outputs\n",
        "\n",
        "legit_pred_test = np.where(legit_pred_test==1, 0, legit_pred_test)\n",
        "legit_pred_test = np.where(legit_pred_test==-1, 1, legit_pred_test)\n",
        "fraud_pred = np.where(fraud_pred==1, 0, fraud_pred)\n",
        "fraud_pred = np.where(fraud_pred==-1, 1, fraud_pred)\n",
        "\n",
        "prediction_iso_for = np.concatenate((legit_pred_test, fraud_pred))\n",
        "y_test_iso_for = np.concatenate((np.repeat(0, len(legit_pred_test)), np.repeat(1, len(fraud_pred))))"
      ],
      "execution_count": 49,
      "outputs": []
    },
    {
      "cell_type": "markdown",
      "metadata": {
        "id": "iI7NqCoaeOz_"
      },
      "source": [
        "## Avaliação dos Modelos e Métricas"
      ]
    },
    {
      "cell_type": "markdown",
      "metadata": {
        "id": "AE2H_1ZRktIf"
      },
      "source": [
        "#### Utilitários"
      ]
    },
    {
      "cell_type": "code",
      "metadata": {
        "id": "JHNLlRmreC3J"
      },
      "source": [
        "# Estrutura de Dicionário para facilitar a organização, predição e report das métricas\n",
        "models = {\n",
        "    'knn':{\n",
        "        'name': 'KNN Unbalanced',\n",
        "        'obj': knn,\n",
        "        'prediction' : None\n",
        "    },\n",
        "    'knns': {\n",
        "        'name': 'KNN SMOTE',\n",
        "        'obj': knns,\n",
        "        'prediction' : None,\n",
        "    },\n",
        "    'knna': {\n",
        "        'name': 'KNN ADASYN',\n",
        "        'obj': knna,\n",
        "        'prediction' : None,\n",
        "    },\n",
        "    'nb':{\n",
        "        'name': 'Naive Bayes Unbalanced',\n",
        "        'obj': nb,\n",
        "        'prediction' : None\n",
        "    },\n",
        "    'nbs': {\n",
        "        'name': 'Naive Bayes SMOTE',\n",
        "        'obj': nbs,\n",
        "        'prediction' : None,\n",
        "    },\n",
        "    'nba': {\n",
        "        'name': 'Naive Bayes ADASYN',\n",
        "        'obj': nba,\n",
        "        'prediction' : None,\n",
        "    },\n",
        "    'rf': {\n",
        "        'name': 'Random Forest Unbalanced',\n",
        "        'obj': rf_unbalanced,\n",
        "        'prediction': None\n",
        "    },\n",
        "    'rfs': {\n",
        "        'name': 'Random Forest SMOTE',\n",
        "        'obj': rf_smote,\n",
        "        'prediction': None\n",
        "    },\n",
        "    'rfa': {\n",
        "        'name': 'Random Forest ADASYN',\n",
        "        'obj': rf_adasyn,\n",
        "        'prediction': None\n",
        "    },\n",
        "    'mlp': {\n",
        "        'name': 'Neural Network Unbalanced',\n",
        "        'obj': mlp_unbalanced,\n",
        "        'prediction': None\n",
        "    },\n",
        "    'mlps': {\n",
        "        'name': 'Neural Network SMOTE',\n",
        "        'obj': mlp_smote,\n",
        "        'prediction': None\n",
        "    },\n",
        "    'mlpa': {\n",
        "        'name': 'Neural Network ADASYN',\n",
        "        'obj': mlp_adasyn,\n",
        "        'prediction': None\n",
        "    },\n",
        "    'kmeans': {\n",
        "        'name': 'K-Means',\n",
        "        'obj': kmeans,\n",
        "        'prediction': None\n",
        "    },\n",
        "    'isolation_forest': {\n",
        "        'name': 'Isolation Forest',\n",
        "        'obj': iso_for,\n",
        "        'prediction': None\n",
        "    }\n",
        "}"
      ],
      "execution_count": 50,
      "outputs": []
    },
    {
      "cell_type": "code",
      "metadata": {
        "id": "hx3hJad4rdBi"
      },
      "source": [
        "# Função auxiliar que retorna as métricas\n",
        "def get_metrics(model, y_test):\n",
        "  return {\n",
        "      'accuracy': accuracy_score(y_test, model['prediction']),\n",
        "      'precision': precision_score(y_test, model[\"prediction\"]),\n",
        "      'recall': recall_score(y_test, model['prediction']),\n",
        "      'f1score': f1_score(y_test, model['prediction']),\n",
        "      'rocauc': roc_auc_score(y_test, model['prediction'])\n",
        "  }"
      ],
      "execution_count": 51,
      "outputs": []
    },
    {
      "cell_type": "code",
      "metadata": {
        "id": "Eqntd6bkhQOA"
      },
      "source": [
        "# Função para gerar e imprimir a matriz de confusão\n",
        "def print_cm(clf, y_true, preds):\n",
        "  if type(clf) in (IsolationForest, KMeans) :\n",
        "    cm = confusion_matrix(y_true, preds, labels=[0,1])\n",
        "  else:\n",
        "    cm = confusion_matrix(y_true, preds, labels=clf.classes_)\n",
        "  disp = ConfusionMatrixDisplay(confusion_matrix=cm,\n",
        "                                display_labels=['Non-Fraud','Fraud'])\n",
        "  disp.plot(values_format='.5g', cmap=plt.cm.Blues)"
      ],
      "execution_count": 52,
      "outputs": []
    },
    {
      "cell_type": "code",
      "metadata": {
        "id": "66RepVW3hShF"
      },
      "source": [
        "# Função para gerar e imprimir as métricas para avaliação dos modelos\n",
        "def print_report(model, y_test, cm=True):\n",
        "    print(f\"******* Model: {model['name']} *******\")\n",
        "    print(f'Classification Report: \\n{classification_report(y_test, model[\"prediction\"])}')\n",
        "    print(f'Accuracy: {accuracy_score(y_test, model[\"prediction\"])}')\n",
        "    print(f'Precision: {precision_score(y_test, model[\"prediction\"])}')\n",
        "    print(f'Recall: {recall_score(y_test, model[\"prediction\"])}')\n",
        "    print(f'F1 Score: {f1_score(y_test, model[\"prediction\"])}')\n",
        "    print(f'ROC AUC Score: {roc_auc_score(y_test, model[\"prediction\"])}')\n",
        "    \n",
        "    if cm:\n",
        "      print_cm(model['obj'], y_test, model[\"prediction\"])"
      ],
      "execution_count": 53,
      "outputs": []
    },
    {
      "cell_type": "markdown",
      "metadata": {
        "id": "53_uH7l6hEku"
      },
      "source": [
        "### Realizando Predições (Predictions)"
      ]
    },
    {
      "cell_type": "code",
      "metadata": {
        "id": "GVZiTsX6hDEj"
      },
      "source": [
        "# KNN\n",
        "models[\"knn\"][\"prediction\"] = knn.predict(X_test_knn)\n",
        "models[\"knns\"][\"prediction\"] = knns.predict(X_test_knn)\n",
        "models[\"knna\"][\"prediction\"] = knna.predict(X_test_knn)"
      ],
      "execution_count": 54,
      "outputs": []
    },
    {
      "cell_type": "code",
      "metadata": {
        "id": "U4gQxBuekJNo"
      },
      "source": [
        "# Naive Bayes\n",
        "models[\"nb\"][\"prediction\"] = nb.predict(X_test_nb)\n",
        "models[\"nbs\"][\"prediction\"] = nbs.predict(X_test_nb)\n",
        "models[\"nba\"][\"prediction\"] = nba.predict(X_test_nb)"
      ],
      "execution_count": 55,
      "outputs": []
    },
    {
      "cell_type": "code",
      "metadata": {
        "id": "TdS_vPVrlmT9"
      },
      "source": [
        "# Random Forest\n",
        "models[\"rf\"][\"prediction\"] = rf_unbalanced.predict(x_test_rf)\n",
        "models[\"rfs\"][\"prediction\"] = rf_smote.predict(x_test_rf)\n",
        "models[\"rfa\"][\"prediction\"] = rf_adasyn.predict(x_test_rf)"
      ],
      "execution_count": 56,
      "outputs": []
    },
    {
      "cell_type": "code",
      "metadata": {
        "id": "vVAny-n7kHgM"
      },
      "source": [
        "# MLP\n",
        "models[\"mlp\"][\"prediction\"] = mlp_unbalanced.predict(x_test_mlp)\n",
        "models[\"mlps\"][\"prediction\"] = mlp_smote.predict(x_test_mlp)\n",
        "models[\"mlpa\"][\"prediction\"] = mlp_adasyn.predict(x_test_mlp)"
      ],
      "execution_count": 57,
      "outputs": []
    },
    {
      "cell_type": "code",
      "metadata": {
        "id": "jzlMQDcY013M"
      },
      "source": [
        "# Isolation Forest\n",
        "models[\"isolation_forest\"][\"prediction\"] = prediction_iso_for"
      ],
      "execution_count": 58,
      "outputs": []
    },
    {
      "cell_type": "code",
      "metadata": {
        "id": "8C8g_a8JZWsu"
      },
      "source": [
        "# K-Means\n",
        "models[\"kmeans\"][\"prediction\"] = kmeans_predicted_test_labels"
      ],
      "execution_count": 59,
      "outputs": []
    },
    {
      "cell_type": "markdown",
      "metadata": {
        "id": "ltLVHnJWrlMZ"
      },
      "source": [
        "#### Atualizando as métricas na estrutura"
      ]
    },
    {
      "cell_type": "code",
      "metadata": {
        "id": "lE1WDVWMrpY3"
      },
      "source": [
        "# KNN\n",
        "models[\"knn\"][\"metrics\"] = get_metrics(models['knn'], y_test_knn)\n",
        "models[\"knns\"][\"metrics\"] = get_metrics(models['knns'], y_test_knn)\n",
        "models[\"knna\"][\"metrics\"] = get_metrics(models['knna'], y_test_knn)\n",
        "\n",
        "# Naive Bayes\n",
        "models[\"nb\"][\"metrics\"] = get_metrics(models['nb'], y_test_nb)\n",
        "models[\"nbs\"][\"metrics\"] = get_metrics(models['nbs'], y_test_nb)\n",
        "models[\"nba\"][\"metrics\"] = get_metrics(models['nba'], y_test_nb)\n",
        "\n",
        "# Random Forest\n",
        "models[\"rf\"][\"metrics\"] = get_metrics(models['rf'], y_test_rf)\n",
        "models[\"rfs\"][\"metrics\"] = get_metrics(models['rfs'], y_test_rf)\n",
        "models[\"rfa\"][\"metrics\"] = get_metrics(models['rfa'], y_test_rf)\n",
        "\n",
        "# MLP\n",
        "models[\"mlp\"][\"metrics\"] = get_metrics(models['mlp'], y_test_mlp)\n",
        "models[\"mlps\"][\"metrics\"] = get_metrics(models['mlps'], y_test_mlp)\n",
        "models[\"mlpa\"][\"metrics\"] = get_metrics(models['mlpa'], y_test_mlp)\n",
        "\n",
        "# Isolation Forest\n",
        "models[\"isolation_forest\"][\"metrics\"] = get_metrics(models['isolation_forest'], y_test_iso_for)\n",
        "\n",
        "# K-Means\n",
        "models[\"kmeans\"][\"metrics\"] = get_metrics(models['kmeans'], test_labels)"
      ],
      "execution_count": 60,
      "outputs": []
    },
    {
      "cell_type": "markdown",
      "metadata": {
        "id": "siZ_FX5NhIPA"
      },
      "source": [
        "### Gerando Report"
      ]
    },
    {
      "cell_type": "code",
      "metadata": {
        "id": "H4uk2ogjvFjV"
      },
      "source": [
        "# Data Frame com as métricas de todos os modelos avaliados\n",
        "model_metrics = {}\n",
        "for k,v in models.items():\n",
        "  model_metrics[v['name']] = v['metrics']\n",
        "dfm = pd.DataFrame(model_metrics)"
      ],
      "execution_count": 61,
      "outputs": []
    },
    {
      "cell_type": "code",
      "metadata": {
        "colab": {
          "base_uri": "https://localhost:8080/",
          "height": 483
        },
        "id": "YmpnygObv_V9",
        "outputId": "12fc088c-5d54-45b3-b571-f27f5ff51725"
      },
      "source": [
        "# Sorted by F1 Score and ROC-AUC\n",
        "dfm.transpose().sort_values(by=['f1score','rocauc'], ascending=False)"
      ],
      "execution_count": 62,
      "outputs": [
        {
          "output_type": "execute_result",
          "data": {
            "text/html": [
              "<div>\n",
              "<style scoped>\n",
              "    .dataframe tbody tr th:only-of-type {\n",
              "        vertical-align: middle;\n",
              "    }\n",
              "\n",
              "    .dataframe tbody tr th {\n",
              "        vertical-align: top;\n",
              "    }\n",
              "\n",
              "    .dataframe thead th {\n",
              "        text-align: right;\n",
              "    }\n",
              "</style>\n",
              "<table border=\"1\" class=\"dataframe\">\n",
              "  <thead>\n",
              "    <tr style=\"text-align: right;\">\n",
              "      <th></th>\n",
              "      <th>accuracy</th>\n",
              "      <th>precision</th>\n",
              "      <th>recall</th>\n",
              "      <th>f1score</th>\n",
              "      <th>rocauc</th>\n",
              "    </tr>\n",
              "  </thead>\n",
              "  <tbody>\n",
              "    <tr>\n",
              "      <th>Neural Network Unbalanced</th>\n",
              "      <td>0.999555</td>\n",
              "      <td>0.882812</td>\n",
              "      <td>0.830882</td>\n",
              "      <td>0.856061</td>\n",
              "      <td>0.915353</td>\n",
              "    </tr>\n",
              "    <tr>\n",
              "      <th>Random Forest ADASYN</th>\n",
              "      <td>0.999532</td>\n",
              "      <td>0.847826</td>\n",
              "      <td>0.860294</td>\n",
              "      <td>0.854015</td>\n",
              "      <td>0.930024</td>\n",
              "    </tr>\n",
              "    <tr>\n",
              "      <th>Random Forest SMOTE</th>\n",
              "      <td>0.999520</td>\n",
              "      <td>0.846715</td>\n",
              "      <td>0.852941</td>\n",
              "      <td>0.849817</td>\n",
              "      <td>0.926348</td>\n",
              "    </tr>\n",
              "    <tr>\n",
              "      <th>Random Forest Unbalanced</th>\n",
              "      <td>0.999532</td>\n",
              "      <td>0.928571</td>\n",
              "      <td>0.764706</td>\n",
              "      <td>0.838710</td>\n",
              "      <td>0.882306</td>\n",
              "    </tr>\n",
              "    <tr>\n",
              "      <th>KNN Unbalanced</th>\n",
              "      <td>0.999450</td>\n",
              "      <td>0.963303</td>\n",
              "      <td>0.709459</td>\n",
              "      <td>0.817121</td>\n",
              "      <td>0.854706</td>\n",
              "    </tr>\n",
              "    <tr>\n",
              "      <th>Neural Network SMOTE</th>\n",
              "      <td>0.999192</td>\n",
              "      <td>0.703030</td>\n",
              "      <td>0.852941</td>\n",
              "      <td>0.770764</td>\n",
              "      <td>0.926183</td>\n",
              "    </tr>\n",
              "    <tr>\n",
              "      <th>Neural Network ADASYN</th>\n",
              "      <td>0.998818</td>\n",
              "      <td>0.587065</td>\n",
              "      <td>0.867647</td>\n",
              "      <td>0.700297</td>\n",
              "      <td>0.933337</td>\n",
              "    </tr>\n",
              "    <tr>\n",
              "      <th>Naive Bayes SMOTE</th>\n",
              "      <td>0.999087</td>\n",
              "      <td>0.818182</td>\n",
              "      <td>0.608108</td>\n",
              "      <td>0.697674</td>\n",
              "      <td>0.803937</td>\n",
              "    </tr>\n",
              "    <tr>\n",
              "      <th>Naive Bayes Unbalanced</th>\n",
              "      <td>0.998947</td>\n",
              "      <td>0.737705</td>\n",
              "      <td>0.608108</td>\n",
              "      <td>0.666667</td>\n",
              "      <td>0.803866</td>\n",
              "    </tr>\n",
              "    <tr>\n",
              "      <th>KNN SMOTE</th>\n",
              "      <td>0.998619</td>\n",
              "      <td>0.575000</td>\n",
              "      <td>0.777027</td>\n",
              "      <td>0.660920</td>\n",
              "      <td>0.888015</td>\n",
              "    </tr>\n",
              "    <tr>\n",
              "      <th>KNN ADASYN</th>\n",
              "      <td>0.998607</td>\n",
              "      <td>0.572139</td>\n",
              "      <td>0.777027</td>\n",
              "      <td>0.659026</td>\n",
              "      <td>0.888009</td>\n",
              "    </tr>\n",
              "    <tr>\n",
              "      <th>Isolation Forest</th>\n",
              "      <td>0.963211</td>\n",
              "      <td>0.117021</td>\n",
              "      <td>0.827236</td>\n",
              "      <td>0.205038</td>\n",
              "      <td>0.895616</td>\n",
              "    </tr>\n",
              "    <tr>\n",
              "      <th>Naive Bayes ADASYN</th>\n",
              "      <td>0.983896</td>\n",
              "      <td>0.084574</td>\n",
              "      <td>0.844595</td>\n",
              "      <td>0.153752</td>\n",
              "      <td>0.914366</td>\n",
              "    </tr>\n",
              "    <tr>\n",
              "      <th>K-Means</th>\n",
              "      <td>0.795337</td>\n",
              "      <td>0.004742</td>\n",
              "      <td>0.560811</td>\n",
              "      <td>0.009404</td>\n",
              "      <td>0.678277</td>\n",
              "    </tr>\n",
              "  </tbody>\n",
              "</table>\n",
              "</div>"
            ],
            "text/plain": [
              "                           accuracy  precision    recall   f1score    rocauc\n",
              "Neural Network Unbalanced  0.999555   0.882812  0.830882  0.856061  0.915353\n",
              "Random Forest ADASYN       0.999532   0.847826  0.860294  0.854015  0.930024\n",
              "Random Forest SMOTE        0.999520   0.846715  0.852941  0.849817  0.926348\n",
              "Random Forest Unbalanced   0.999532   0.928571  0.764706  0.838710  0.882306\n",
              "KNN Unbalanced             0.999450   0.963303  0.709459  0.817121  0.854706\n",
              "Neural Network SMOTE       0.999192   0.703030  0.852941  0.770764  0.926183\n",
              "Neural Network ADASYN      0.998818   0.587065  0.867647  0.700297  0.933337\n",
              "Naive Bayes SMOTE          0.999087   0.818182  0.608108  0.697674  0.803937\n",
              "Naive Bayes Unbalanced     0.998947   0.737705  0.608108  0.666667  0.803866\n",
              "KNN SMOTE                  0.998619   0.575000  0.777027  0.660920  0.888015\n",
              "KNN ADASYN                 0.998607   0.572139  0.777027  0.659026  0.888009\n",
              "Isolation Forest           0.963211   0.117021  0.827236  0.205038  0.895616\n",
              "Naive Bayes ADASYN         0.983896   0.084574  0.844595  0.153752  0.914366\n",
              "K-Means                    0.795337   0.004742  0.560811  0.009404  0.678277"
            ]
          },
          "metadata": {
            "tags": []
          },
          "execution_count": 62
        }
      ]
    },
    {
      "cell_type": "code",
      "metadata": {
        "id": "LUpGU2YYwfXl",
        "colab": {
          "base_uri": "https://localhost:8080/",
          "height": 120
        },
        "outputId": "76c40476-4b30-44bf-9254-f5e2b2222f74"
      },
      "source": [
        "dfm.transpose().sort_values(by=['f1score','rocauc'], ascending=False).to_latex()"
      ],
      "execution_count": 63,
      "outputs": [
        {
          "output_type": "execute_result",
          "data": {
            "application/vnd.google.colaboratory.intrinsic+json": {
              "type": "string"
            },
            "text/plain": [
              "'\\\\begin{tabular}{lrrrrr}\\n\\\\toprule\\n{} &  accuracy &  precision &    recall &   f1score &    rocauc \\\\\\\\\\n\\\\midrule\\nNeural Network Unbalanced &  0.999555 &   0.882812 &  0.830882 &  0.856061 &  0.915353 \\\\\\\\\\nRandom Forest ADASYN      &  0.999532 &   0.847826 &  0.860294 &  0.854015 &  0.930024 \\\\\\\\\\nRandom Forest SMOTE       &  0.999520 &   0.846715 &  0.852941 &  0.849817 &  0.926348 \\\\\\\\\\nRandom Forest Unbalanced  &  0.999532 &   0.928571 &  0.764706 &  0.838710 &  0.882306 \\\\\\\\\\nKNN Unbalanced            &  0.999450 &   0.963303 &  0.709459 &  0.817121 &  0.854706 \\\\\\\\\\nNeural Network SMOTE      &  0.999192 &   0.703030 &  0.852941 &  0.770764 &  0.926183 \\\\\\\\\\nNeural Network ADASYN     &  0.998818 &   0.587065 &  0.867647 &  0.700297 &  0.933337 \\\\\\\\\\nNaive Bayes SMOTE         &  0.999087 &   0.818182 &  0.608108 &  0.697674 &  0.803937 \\\\\\\\\\nNaive Bayes Unbalanced    &  0.998947 &   0.737705 &  0.608108 &  0.666667 &  0.803866 \\\\\\\\\\nKNN SMOTE                 &  0.998619 &   0.575000 &  0.777027 &  0.660920 &  0.888015 \\\\\\\\\\nKNN ADASYN                &  0.998607 &   0.572139 &  0.777027 &  0.659026 &  0.888009 \\\\\\\\\\nIsolation Forest          &  0.963211 &   0.117021 &  0.827236 &  0.205038 &  0.895616 \\\\\\\\\\nNaive Bayes ADASYN        &  0.983896 &   0.084574 &  0.844595 &  0.153752 &  0.914366 \\\\\\\\\\nK-Means                   &  0.795337 &   0.004742 &  0.560811 &  0.009404 &  0.678277 \\\\\\\\\\n\\\\bottomrule\\n\\\\end{tabular}\\n'"
            ]
          },
          "metadata": {
            "tags": []
          },
          "execution_count": 63
        }
      ]
    },
    {
      "cell_type": "code",
      "metadata": {
        "id": "dhTwfaapmU4F"
      },
      "source": [
        "# Para que a matriz seja impressa logo após os dados corespondentes\n",
        "# é preciso chamar o print para cada modelo em célula separada, senão\n",
        "# ele imprime todos os reports e só depois plota os gráficos."
      ],
      "execution_count": 64,
      "outputs": []
    },
    {
      "cell_type": "markdown",
      "metadata": {
        "id": "xYdfHp-peAA6"
      },
      "source": [
        "#### KNN"
      ]
    },
    {
      "cell_type": "code",
      "metadata": {
        "colab": {
          "base_uri": "https://localhost:8080/",
          "height": 0
        },
        "id": "N2P4fJpnhngF",
        "outputId": "946ded0e-1ff4-462a-9a92-33d16b31d5fc"
      },
      "source": [
        "print_report(models[\"knn\"], y_test_knn)"
      ],
      "execution_count": 65,
      "outputs": [
        {
          "output_type": "stream",
          "text": [
            "******* Model: KNN Unbalanced *******\n",
            "Classification Report: \n",
            "              precision    recall  f1-score   support\n",
            "\n",
            "           0       1.00      1.00      1.00     85295\n",
            "           1       0.96      0.71      0.82       148\n",
            "\n",
            "    accuracy                           1.00     85443\n",
            "   macro avg       0.98      0.85      0.91     85443\n",
            "weighted avg       1.00      1.00      1.00     85443\n",
            "\n",
            "Accuracy: 0.9994499256814484\n",
            "Precision: 0.963302752293578\n",
            "Recall: 0.7094594594594594\n",
            "F1 Score: 0.8171206225680935\n",
            "ROC AUC Score: 0.8547062816964336\n"
          ],
          "name": "stdout"
        },
        {
          "output_type": "display_data",
          "data": {
            "image/png": "[encoded data removed]",
            "text/plain": [
              "<Figure size 432x288 with 2 Axes>"
            ]
          },
          "metadata": {
            "tags": [],
            "needs_background": "light"
          }
        }
      ]
    },
    {
      "cell_type": "code",
      "metadata": {
        "colab": {
          "base_uri": "https://localhost:8080/",
          "height": 0
        },
        "id": "2Xe9yfThhoTx",
        "outputId": "9486eade-e780-44fe-a36a-2065adebfc4f"
      },
      "source": [
        "print_report(models[\"knns\"], y_test_knn)"
      ],
      "execution_count": 66,
      "outputs": [
        {
          "output_type": "stream",
          "text": [
            "******* Model: KNN SMOTE *******\n",
            "Classification Report: \n",
            "              precision    recall  f1-score   support\n",
            "\n",
            "           0       1.00      1.00      1.00     85295\n",
            "           1       0.57      0.78      0.66       148\n",
            "\n",
            "    accuracy                           1.00     85443\n",
            "   macro avg       0.79      0.89      0.83     85443\n",
            "weighted avg       1.00      1.00      1.00     85443\n",
            "\n",
            "Accuracy: 0.9986189623491685\n",
            "Precision: 0.575\n",
            "Recall: 0.777027027027027\n",
            "F1 Score: 0.660919540229885\n",
            "ROC AUC Score: 0.8880152428059691\n"
          ],
          "name": "stdout"
        },
        {
          "output_type": "display_data",
          "data": {
            "image/png": "[encoded data removed]",
            "text/plain": [
              "<Figure size 432x288 with 2 Axes>"
            ]
          },
          "metadata": {
            "tags": [],
            "needs_background": "light"
          }
        }
      ]
    },
    {
      "cell_type": "code",
      "metadata": {
        "colab": {
          "base_uri": "https://localhost:8080/",
          "height": 0
        },
        "id": "82Nts4fSrucd",
        "outputId": "7c8e108f-bf49-40b5-a1cc-f7f7cc64d2b9"
      },
      "source": [
        "print_report(models[\"knna\"], y_test_knn)"
      ],
      "execution_count": 67,
      "outputs": [
        {
          "output_type": "stream",
          "text": [
            "******* Model: KNN ADASYN *******\n",
            "Classification Report: \n",
            "              precision    recall  f1-score   support\n",
            "\n",
            "           0       1.00      1.00      1.00     85295\n",
            "           1       0.57      0.78      0.66       148\n",
            "\n",
            "    accuracy                           1.00     85443\n",
            "   macro avg       0.79      0.89      0.83     85443\n",
            "weighted avg       1.00      1.00      1.00     85443\n",
            "\n",
            "Accuracy: 0.9986072586402631\n",
            "Precision: 0.572139303482587\n",
            "Recall: 0.777027027027027\n",
            "F1 Score: 0.659025787965616\n",
            "ROC AUC Score: 0.888009380797645\n"
          ],
          "name": "stdout"
        },
        {
          "output_type": "display_data",
          "data": {
            "image/png": "[encoded data removed]",
            "text/plain": [
              "<Figure size 432x288 with 2 Axes>"
            ]
          },
          "metadata": {
            "tags": [],
            "needs_background": "light"
          }
        }
      ]
    },
    {
      "cell_type": "markdown",
      "metadata": {
        "id": "7EXhxCE3eCH1"
      },
      "source": [
        "#### Naive Bayes"
      ]
    },
    {
      "cell_type": "code",
      "metadata": {
        "colab": {
          "base_uri": "https://localhost:8080/",
          "height": 0
        },
        "id": "m4eG37Gfhpaj",
        "outputId": "18a4c802-c289-46d8-f6e3-7cca9774f095"
      },
      "source": [
        "print_report(models[\"nb\"], y_test_nb)"
      ],
      "execution_count": 68,
      "outputs": [
        {
          "output_type": "stream",
          "text": [
            "******* Model: Naive Bayes Unbalanced *******\n",
            "Classification Report: \n",
            "              precision    recall  f1-score   support\n",
            "\n",
            "           0       1.00      1.00      1.00     85295\n",
            "           1       0.74      0.61      0.67       148\n",
            "\n",
            "    accuracy                           1.00     85443\n",
            "   macro avg       0.87      0.80      0.83     85443\n",
            "weighted avg       1.00      1.00      1.00     85443\n",
            "\n",
            "Accuracy: 0.9989466661985184\n",
            "Precision: 0.7377049180327869\n",
            "Recall: 0.6081081081081081\n",
            "F1 Score: 0.6666666666666667\n",
            "ROC AUC Score: 0.8038664697876844\n"
          ],
          "name": "stdout"
        },
        {
          "output_type": "display_data",
          "data": {
            "image/png": "[encoded data removed]",
            "text/plain": [
              "<Figure size 432x288 with 2 Axes>"
            ]
          },
          "metadata": {
            "tags": [],
            "needs_background": "light"
          }
        }
      ]
    },
    {
      "cell_type": "code",
      "metadata": {
        "colab": {
          "base_uri": "https://localhost:8080/",
          "height": 0
        },
        "id": "Teod1IFJhp7_",
        "outputId": "8b08bd61-e97b-44f7-9977-0539f0fc84c2"
      },
      "source": [
        "print_report(models[\"nbs\"], y_test_nb)"
      ],
      "execution_count": 69,
      "outputs": [
        {
          "output_type": "stream",
          "text": [
            "******* Model: Naive Bayes SMOTE *******\n",
            "Classification Report: \n",
            "              precision    recall  f1-score   support\n",
            "\n",
            "           0       1.00      1.00      1.00     85295\n",
            "           1       0.82      0.61      0.70       148\n",
            "\n",
            "    accuracy                           1.00     85443\n",
            "   macro avg       0.91      0.80      0.85     85443\n",
            "weighted avg       1.00      1.00      1.00     85443\n",
            "\n",
            "Accuracy: 0.9990871107053826\n",
            "Precision: 0.8181818181818182\n",
            "Recall: 0.6081081081081081\n",
            "F1 Score: 0.6976744186046513\n",
            "ROC AUC Score: 0.8039368138875731\n"
          ],
          "name": "stdout"
        },
        {
          "output_type": "display_data",
          "data": {
            "image/png": "[encoded data removed]",
            "text/plain": [
              "<Figure size 432x288 with 2 Axes>"
            ]
          },
          "metadata": {
            "tags": [],
            "needs_background": "light"
          }
        }
      ]
    },
    {
      "cell_type": "code",
      "metadata": {
        "colab": {
          "base_uri": "https://localhost:8080/",
          "height": 0
        },
        "id": "ES02ziW6r1ns",
        "outputId": "4adc8ed2-a77a-4bd1-e189-23ea9858c445"
      },
      "source": [
        "print_report(models[\"nba\"], y_test_nb)"
      ],
      "execution_count": 70,
      "outputs": [
        {
          "output_type": "stream",
          "text": [
            "******* Model: Naive Bayes ADASYN *******\n",
            "Classification Report: \n",
            "              precision    recall  f1-score   support\n",
            "\n",
            "           0       1.00      0.98      0.99     85295\n",
            "           1       0.08      0.84      0.15       148\n",
            "\n",
            "    accuracy                           0.98     85443\n",
            "   macro avg       0.54      0.91      0.57     85443\n",
            "weighted avg       1.00      0.98      0.99     85443\n",
            "\n",
            "Accuracy: 0.9838956965462355\n",
            "Precision: 0.08457374830852503\n",
            "Recall: 0.8445945945945946\n",
            "F1 Score: 0.15375153751537515\n",
            "ROC AUC Score: 0.9143660000348552\n"
          ],
          "name": "stdout"
        },
        {
          "output_type": "display_data",
          "data": {
            "image/png": "[encoded data removed]",
            "text/plain": [
              "<Figure size 432x288 with 2 Axes>"
            ]
          },
          "metadata": {
            "tags": [],
            "needs_background": "light"
          }
        }
      ]
    },
    {
      "cell_type": "markdown",
      "metadata": {
        "id": "JI8QlmePeOoJ"
      },
      "source": [
        "#### Random Forest"
      ]
    },
    {
      "cell_type": "code",
      "metadata": {
        "colab": {
          "base_uri": "https://localhost:8080/",
          "height": 551
        },
        "id": "8r5bRzvgePr3",
        "outputId": "f96cdd84-01e7-41d0-cdbf-63274a7af39c"
      },
      "source": [
        "print_report(models[\"rf\"], y_test_rf)"
      ],
      "execution_count": 71,
      "outputs": [
        {
          "output_type": "stream",
          "text": [
            "******* Model: Random Forest Unbalanced *******\n",
            "Classification Report: \n",
            "              precision    recall  f1-score   support\n",
            "\n",
            "           0       1.00      1.00      1.00     85307\n",
            "           1       0.93      0.76      0.84       136\n",
            "\n",
            "    accuracy                           1.00     85443\n",
            "   macro avg       0.96      0.88      0.92     85443\n",
            "weighted avg       1.00      1.00      1.00     85443\n",
            "\n",
            "Accuracy: 0.9995318516437859\n",
            "Precision: 0.9285714285714286\n",
            "Recall: 0.7647058823529411\n",
            "F1 Score: 0.8387096774193549\n",
            "ROC AUC Score: 0.8823060517066733\n"
          ],
          "name": "stdout"
        },
        {
          "output_type": "display_data",
          "data": {
            "image/png": "[encoded data removed]",
            "text/plain": [
              "<Figure size 432x288 with 2 Axes>"
            ]
          },
          "metadata": {
            "tags": [],
            "needs_background": "light"
          }
        }
      ]
    },
    {
      "cell_type": "code",
      "metadata": {
        "colab": {
          "base_uri": "https://localhost:8080/",
          "height": 551
        },
        "id": "2E7tGzmOecl1",
        "outputId": "23c393e2-a25c-4687-8092-6c04cf3f4d77"
      },
      "source": [
        "print_report(models[\"rfs\"], y_test_rf)"
      ],
      "execution_count": 72,
      "outputs": [
        {
          "output_type": "stream",
          "text": [
            "******* Model: Random Forest SMOTE *******\n",
            "Classification Report: \n",
            "              precision    recall  f1-score   support\n",
            "\n",
            "           0       1.00      1.00      1.00     85307\n",
            "           1       0.85      0.85      0.85       136\n",
            "\n",
            "    accuracy                           1.00     85443\n",
            "   macro avg       0.92      0.93      0.92     85443\n",
            "weighted avg       1.00      1.00      1.00     85443\n",
            "\n",
            "Accuracy: 0.9995201479348805\n",
            "Precision: 0.8467153284671532\n",
            "Recall: 0.8529411764705882\n",
            "F1 Score: 0.8498168498168498\n",
            "ROC AUC Score: 0.9263475033770762\n"
          ],
          "name": "stdout"
        },
        {
          "output_type": "display_data",
          "data": {
            "image/png": "[encoded data removed]",
            "text/plain": [
              "<Figure size 432x288 with 2 Axes>"
            ]
          },
          "metadata": {
            "tags": [],
            "needs_background": "light"
          }
        }
      ]
    },
    {
      "cell_type": "code",
      "metadata": {
        "colab": {
          "base_uri": "https://localhost:8080/",
          "height": 551
        },
        "id": "hxMk1dNsehQ1",
        "outputId": "01164b1c-8498-4ff2-a748-4d1f5d5390f0"
      },
      "source": [
        "print_report(models[\"rfa\"], y_test_rf)"
      ],
      "execution_count": 73,
      "outputs": [
        {
          "output_type": "stream",
          "text": [
            "******* Model: Random Forest ADASYN *******\n",
            "Classification Report: \n",
            "              precision    recall  f1-score   support\n",
            "\n",
            "           0       1.00      1.00      1.00     85307\n",
            "           1       0.85      0.86      0.85       136\n",
            "\n",
            "    accuracy                           1.00     85443\n",
            "   macro avg       0.92      0.93      0.93     85443\n",
            "weighted avg       1.00      1.00      1.00     85443\n",
            "\n",
            "Accuracy: 0.9995318516437859\n",
            "Precision: 0.8478260869565217\n",
            "Recall: 0.8602941176470589\n",
            "F1 Score: 0.854014598540146\n",
            "ROC AUC Score: 0.9300239739653114\n"
          ],
          "name": "stdout"
        },
        {
          "output_type": "display_data",
          "data": {
            "image/png": "[encoded data removed]",
            "text/plain": [
              "<Figure size 432x288 with 2 Axes>"
            ]
          },
          "metadata": {
            "tags": [],
            "needs_background": "light"
          }
        }
      ]
    },
    {
      "cell_type": "markdown",
      "metadata": {
        "id": "BJOeoPUPx0hJ"
      },
      "source": [
        "#### Redes Neurais"
      ]
    },
    {
      "cell_type": "code",
      "metadata": {
        "colab": {
          "base_uri": "https://localhost:8080/",
          "height": 551
        },
        "id": "x4quQdISx3jo",
        "outputId": "48b816ac-fa26-4f87-9917-fb9b3816f109"
      },
      "source": [
        "print_report(models[\"mlp\"], y_test_mlp)"
      ],
      "execution_count": 74,
      "outputs": [
        {
          "output_type": "stream",
          "text": [
            "******* Model: Neural Network Unbalanced *******\n",
            "Classification Report: \n",
            "              precision    recall  f1-score   support\n",
            "\n",
            "           0       1.00      1.00      1.00     85307\n",
            "           1       0.88      0.83      0.86       136\n",
            "\n",
            "    accuracy                           1.00     85443\n",
            "   macro avg       0.94      0.92      0.93     85443\n",
            "weighted avg       1.00      1.00      1.00     85443\n",
            "\n",
            "Accuracy: 0.9995552590615966\n",
            "Precision: 0.8828125\n",
            "Recall: 0.8308823529411765\n",
            "F1 Score: 0.856060606060606\n",
            "ROC AUC Score: 0.9153532587147184\n"
          ],
          "name": "stdout"
        },
        {
          "output_type": "display_data",
          "data": {
            "image/png": "[encoded data removed]",
            "text/plain": [
              "<Figure size 432x288 with 2 Axes>"
            ]
          },
          "metadata": {
            "tags": [],
            "needs_background": "light"
          }
        }
      ]
    },
    {
      "cell_type": "code",
      "metadata": {
        "colab": {
          "base_uri": "https://localhost:8080/",
          "height": 551
        },
        "id": "LIrwHlybx6O-",
        "outputId": "b72d4e20-0a22-4760-ce97-58bd584ac495"
      },
      "source": [
        "print_report(models[\"mlps\"], y_test_mlp)"
      ],
      "execution_count": 75,
      "outputs": [
        {
          "output_type": "stream",
          "text": [
            "******* Model: Neural Network SMOTE *******\n",
            "Classification Report: \n",
            "              precision    recall  f1-score   support\n",
            "\n",
            "           0       1.00      1.00      1.00     85307\n",
            "           1       0.70      0.85      0.77       136\n",
            "\n",
            "    accuracy                           1.00     85443\n",
            "   macro avg       0.85      0.93      0.89     85443\n",
            "weighted avg       1.00      1.00      1.00     85443\n",
            "\n",
            "Accuracy: 0.9991924440855307\n",
            "Precision: 0.703030303030303\n",
            "Recall: 0.8529411764705882\n",
            "F1 Score: 0.7707641196013288\n",
            "ROC AUC Score: 0.9261833902327856\n"
          ],
          "name": "stdout"
        },
        {
          "output_type": "display_data",
          "data": {
            "image/png": "[encoded data removed]",
            "text/plain": [
              "<Figure size 432x288 with 2 Axes>"
            ]
          },
          "metadata": {
            "tags": [],
            "needs_background": "light"
          }
        }
      ]
    },
    {
      "cell_type": "code",
      "metadata": {
        "colab": {
          "base_uri": "https://localhost:8080/",
          "height": 551
        },
        "id": "b_lIylBzx90O",
        "outputId": "501cb5df-b1fa-4cb3-a6f9-53be16dfc5a8"
      },
      "source": [
        "print_report(models[\"mlpa\"], y_test_mlp)"
      ],
      "execution_count": 76,
      "outputs": [
        {
          "output_type": "stream",
          "text": [
            "******* Model: Neural Network ADASYN *******\n",
            "Classification Report: \n",
            "              precision    recall  f1-score   support\n",
            "\n",
            "           0       1.00      1.00      1.00     85307\n",
            "           1       0.59      0.87      0.70       136\n",
            "\n",
            "    accuracy                           1.00     85443\n",
            "   macro avg       0.79      0.93      0.85     85443\n",
            "weighted avg       1.00      1.00      1.00     85443\n",
            "\n",
            "Accuracy: 0.9988179254005595\n",
            "Precision: 0.5870646766169154\n",
            "Recall: 0.8676470588235294\n",
            "F1 Score: 0.7002967359050445\n",
            "ROC AUC Score: 0.9333370511626174\n"
          ],
          "name": "stdout"
        },
        {
          "output_type": "display_data",
          "data": {
            "image/png": "[encoded data removed]",
            "text/plain": [
              "<Figure size 432x288 with 2 Axes>"
            ]
          },
          "metadata": {
            "tags": [],
            "needs_background": "light"
          }
        }
      ]
    },
    {
      "cell_type": "markdown",
      "metadata": {
        "id": "aZCNVPxQBVfA"
      },
      "source": [
        "#### Isolation Forests"
      ]
    },
    {
      "cell_type": "code",
      "metadata": {
        "colab": {
          "base_uri": "https://localhost:8080/",
          "height": 551
        },
        "id": "DMfQjBQiBXb4",
        "outputId": "db8e4681-d89e-4e7c-86f5-9b3a43a9328c"
      },
      "source": [
        "print_report(models[\"isolation_forest\"], y_test_iso_for)"
      ],
      "execution_count": 77,
      "outputs": [
        {
          "output_type": "stream",
          "text": [
            "******* Model: Isolation Forest *******\n",
            "Classification Report: \n",
            "              precision    recall  f1-score   support\n",
            "\n",
            "           0       1.00      0.96      0.98     85295\n",
            "           1       0.12      0.83      0.21       492\n",
            "\n",
            "    accuracy                           0.96     85787\n",
            "   macro avg       0.56      0.90      0.59     85787\n",
            "weighted avg       0.99      0.96      0.98     85787\n",
            "\n",
            "Accuracy: 0.9632112091575646\n",
            "Precision: 0.11702127659574468\n",
            "Recall: 0.8272357723577236\n",
            "F1 Score: 0.20503778337531486\n",
            "ROC AUC Score: 0.8956156586156986\n"
          ],
          "name": "stdout"
        },
        {
          "output_type": "display_data",
          "data": {
            "image/png": "[encoded data removed]",
            "text/plain": [
              "<Figure size 432x288 with 2 Axes>"
            ]
          },
          "metadata": {
            "tags": [],
            "needs_background": "light"
          }
        }
      ]
    },
    {
      "cell_type": "markdown",
      "metadata": {
        "id": "rP1kcX5Pqp60"
      },
      "source": [
        "#### K-Means"
      ]
    },
    {
      "cell_type": "code",
      "metadata": {
        "id": "KHyna7ESE6b7",
        "colab": {
          "base_uri": "https://localhost:8080/",
          "height": 551
        },
        "outputId": "25b4baee-d0ca-495e-86b2-ed98953e8e67"
      },
      "source": [
        "print_report(models[\"kmeans\"], test_labels)"
      ],
      "execution_count": 78,
      "outputs": [
        {
          "output_type": "stream",
          "text": [
            "******* Model: K-Means *******\n",
            "Classification Report: \n",
            "              precision    recall  f1-score   support\n",
            "\n",
            "           0       1.00      0.80      0.89     85295\n",
            "           1       0.00      0.56      0.01       148\n",
            "\n",
            "    accuracy                           0.80     85443\n",
            "   macro avg       0.50      0.68      0.45     85443\n",
            "weighted avg       1.00      0.80      0.88     85443\n",
            "\n",
            "Accuracy: 0.7953372423721077\n",
            "Precision: 0.00474150242787775\n",
            "Recall: 0.5608108108108109\n",
            "F1 Score: 0.009403500821390133\n",
            "ROC AUC Score: 0.6782774963837745\n"
          ],
          "name": "stdout"
        },
        {
          "output_type": "display_data",
          "data": {
            "image/png": "[encoded data removed]",
            "text/plain": [
              "<Figure size 432x288 with 2 Axes>"
            ]
          },
          "metadata": {
            "tags": [],
            "needs_background": "light"
          }
        }
      ]
    },
    {
      "cell_type": "code",
      "metadata": {
        "id": "r4DdsTn13cLE"
      },
      "source": [
        "plt.rcdefaults()"
      ],
      "execution_count": 79,
      "outputs": []
    }
  ]
}